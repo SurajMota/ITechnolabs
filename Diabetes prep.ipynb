{
 "cells": [
  {
   "cell_type": "code",
   "execution_count": 236,
   "id": "dc0a3aa2",
   "metadata": {},
   "outputs": [],
   "source": [
    "import warnings\n",
    "warnings.filterwarnings(action='ignore', category=FutureWarning)\n",
    "\n",
    "import pandas as pd\n",
    "import numpy as np\n",
    "import seaborn as sns\n",
    "import matplotlib.pyplot as plt\n",
    "from sklearn.preprocessing import MinMaxScaler\n",
    "from sklearn.preprocessing import LabelEncoder, OrdinalEncoder\n",
    "from sklearn.model_selection import train_test_split\n",
    "\n",
    "\n",
    "from sklearn.neighbors import KNeighborsClassifier\n",
    "from sklearn.svm import SVC\n",
    "from sklearn.linear_model import LogisticRegression\n",
    "from sklearn.tree import DecisionTreeClassifier\n",
    "from sklearn.naive_bayes import GaussianNB\n",
    "from sklearn.ensemble import RandomForestClassifier\n",
    "from sklearn.ensemble import GradientBoostingClassifier\n",
    "\n",
    "from sklearn.model_selection import RandomizedSearchCV\n",
    "from pprint import pprint\n",
    "\n",
    "\n",
    "from sklearn.metrics import accuracy_score\n",
    "from sklearn.metrics import confusion_matrix\n",
    "from sklearn.metrics import roc_curve\n",
    "from sklearn.metrics import roc_auc_score\n",
    "from sklearn.metrics import classification_report\n",
    "\n",
    "import pickle"
   ]
  },
  {
   "cell_type": "markdown",
   "id": "f474376b",
   "metadata": {},
   "source": [
    "# First part dataset"
   ]
  },
  {
   "cell_type": "code",
   "execution_count": 237,
   "id": "f0ef6b7a",
   "metadata": {},
   "outputs": [
    {
     "data": {
      "text/html": [
       "<div>\n",
       "<style scoped>\n",
       "    .dataframe tbody tr th:only-of-type {\n",
       "        vertical-align: middle;\n",
       "    }\n",
       "\n",
       "    .dataframe tbody tr th {\n",
       "        vertical-align: top;\n",
       "    }\n",
       "\n",
       "    .dataframe thead th {\n",
       "        text-align: right;\n",
       "    }\n",
       "</style>\n",
       "<table border=\"1\" class=\"dataframe\">\n",
       "  <thead>\n",
       "    <tr style=\"text-align: right;\">\n",
       "      <th></th>\n",
       "      <th>id</th>\n",
       "      <th>cholesterol</th>\n",
       "      <th>gluc</th>\n",
       "      <th>smoke</th>\n",
       "      <th>alco</th>\n",
       "      <th>active</th>\n",
       "      <th>pressure</th>\n",
       "      <th>diabetes</th>\n",
       "    </tr>\n",
       "  </thead>\n",
       "  <tbody>\n",
       "    <tr>\n",
       "      <th>0</th>\n",
       "      <td>62538</td>\n",
       "      <td>low</td>\n",
       "      <td>low</td>\n",
       "      <td>0</td>\n",
       "      <td>0</td>\n",
       "      <td>1</td>\n",
       "      <td>100/80</td>\n",
       "      <td>0</td>\n",
       "    </tr>\n",
       "    <tr>\n",
       "      <th>1</th>\n",
       "      <td>49159</td>\n",
       "      <td>low</td>\n",
       "      <td>low</td>\n",
       "      <td>0</td>\n",
       "      <td>0</td>\n",
       "      <td>1</td>\n",
       "      <td>120/82</td>\n",
       "      <td>0</td>\n",
       "    </tr>\n",
       "    <tr>\n",
       "      <th>2</th>\n",
       "      <td>60683</td>\n",
       "      <td>low</td>\n",
       "      <td>low</td>\n",
       "      <td>0</td>\n",
       "      <td>0</td>\n",
       "      <td>1</td>\n",
       "      <td>120/80</td>\n",
       "      <td>0</td>\n",
       "    </tr>\n",
       "    <tr>\n",
       "      <th>3</th>\n",
       "      <td>42924</td>\n",
       "      <td>low</td>\n",
       "      <td>low</td>\n",
       "      <td>0</td>\n",
       "      <td>0</td>\n",
       "      <td>0</td>\n",
       "      <td>120/80</td>\n",
       "      <td>0</td>\n",
       "    </tr>\n",
       "    <tr>\n",
       "      <th>4</th>\n",
       "      <td>52888</td>\n",
       "      <td>low</td>\n",
       "      <td>low</td>\n",
       "      <td>0</td>\n",
       "      <td>0</td>\n",
       "      <td>0</td>\n",
       "      <td>120/80</td>\n",
       "      <td>0</td>\n",
       "    </tr>\n",
       "  </tbody>\n",
       "</table>\n",
       "</div>"
      ],
      "text/plain": [
       "      id cholesterol gluc  smoke  alco  active pressure  diabetes\n",
       "0  62538         low  low      0     0       1   100/80         0\n",
       "1  49159         low  low      0     0       1   120/82         0\n",
       "2  60683         low  low      0     0       1   120/80         0\n",
       "3  42924         low  low      0     0       0   120/80         0\n",
       "4  52888         low  low      0     0       0   120/80         0"
      ]
     },
     "execution_count": 237,
     "metadata": {},
     "output_type": "execute_result"
    }
   ],
   "source": [
    "data1 = pd.read_csv('diabetes_train_analysis.csv')\n",
    "data1.head()"
   ]
  },
  {
   "cell_type": "code",
   "execution_count": 238,
   "id": "be6f7761",
   "metadata": {},
   "outputs": [
    {
     "data": {
      "text/plain": [
       "id             60000\n",
       "cholesterol        3\n",
       "gluc               3\n",
       "smoke              2\n",
       "alco               2\n",
       "active             2\n",
       "pressure        1111\n",
       "diabetes           2\n",
       "dtype: int64"
      ]
     },
     "execution_count": 238,
     "metadata": {},
     "output_type": "execute_result"
    }
   ],
   "source": [
    "data1.nunique()"
   ]
  },
  {
   "cell_type": "code",
   "execution_count": 239,
   "id": "7a212012",
   "metadata": {},
   "outputs": [
    {
     "data": {
      "text/plain": [
       "id              int64\n",
       "cholesterol    object\n",
       "gluc           object\n",
       "smoke           int64\n",
       "alco            int64\n",
       "active          int64\n",
       "pressure       object\n",
       "diabetes        int64\n",
       "dtype: object"
      ]
     },
     "execution_count": 239,
     "metadata": {},
     "output_type": "execute_result"
    }
   ],
   "source": [
    "data1.dtypes"
   ]
  },
  {
   "cell_type": "code",
   "execution_count": 240,
   "id": "0f56e190",
   "metadata": {},
   "outputs": [
    {
     "data": {
      "text/plain": [
       "id              0\n",
       "cholesterol     0\n",
       "gluc            0\n",
       "smoke           0\n",
       "alco            0\n",
       "active          0\n",
       "pressure       93\n",
       "diabetes        0\n",
       "dtype: int64"
      ]
     },
     "execution_count": 240,
     "metadata": {},
     "output_type": "execute_result"
    }
   ],
   "source": [
    "data1.isnull().sum()"
   ]
  },
  {
   "cell_type": "code",
   "execution_count": 241,
   "id": "acbf7f71",
   "metadata": {},
   "outputs": [],
   "source": [
    "# 0.1% pressure isnull so we can drop it\n",
    "data1.dropna(subset=['pressure'], inplace=True)"
   ]
  },
  {
   "cell_type": "code",
   "execution_count": 242,
   "id": "5528afea",
   "metadata": {},
   "outputs": [
    {
     "data": {
      "text/plain": [
       "id             0\n",
       "cholesterol    0\n",
       "gluc           0\n",
       "smoke          0\n",
       "alco           0\n",
       "active         0\n",
       "pressure       0\n",
       "diabetes       0\n",
       "dtype: int64"
      ]
     },
     "execution_count": 242,
     "metadata": {},
     "output_type": "execute_result"
    }
   ],
   "source": [
    "data1.isnull().sum()"
   ]
  },
  {
   "cell_type": "code",
   "execution_count": 243,
   "id": "c969048a",
   "metadata": {},
   "outputs": [
    {
     "data": {
      "text/html": [
       "<div>\n",
       "<style scoped>\n",
       "    .dataframe tbody tr th:only-of-type {\n",
       "        vertical-align: middle;\n",
       "    }\n",
       "\n",
       "    .dataframe tbody tr th {\n",
       "        vertical-align: top;\n",
       "    }\n",
       "\n",
       "    .dataframe thead th {\n",
       "        text-align: right;\n",
       "    }\n",
       "</style>\n",
       "<table border=\"1\" class=\"dataframe\">\n",
       "  <thead>\n",
       "    <tr style=\"text-align: right;\">\n",
       "      <th></th>\n",
       "      <th>id</th>\n",
       "      <th>cholesterol</th>\n",
       "      <th>gluc</th>\n",
       "      <th>smoke</th>\n",
       "      <th>alco</th>\n",
       "      <th>active</th>\n",
       "      <th>pressure</th>\n",
       "      <th>diabetes</th>\n",
       "    </tr>\n",
       "  </thead>\n",
       "  <tbody>\n",
       "    <tr>\n",
       "      <th>0</th>\n",
       "      <td>62538</td>\n",
       "      <td>low</td>\n",
       "      <td>low</td>\n",
       "      <td>0</td>\n",
       "      <td>0</td>\n",
       "      <td>1</td>\n",
       "      <td>100/80</td>\n",
       "      <td>0</td>\n",
       "    </tr>\n",
       "    <tr>\n",
       "      <th>1</th>\n",
       "      <td>49159</td>\n",
       "      <td>low</td>\n",
       "      <td>low</td>\n",
       "      <td>0</td>\n",
       "      <td>0</td>\n",
       "      <td>1</td>\n",
       "      <td>120/82</td>\n",
       "      <td>0</td>\n",
       "    </tr>\n",
       "    <tr>\n",
       "      <th>2</th>\n",
       "      <td>60683</td>\n",
       "      <td>low</td>\n",
       "      <td>low</td>\n",
       "      <td>0</td>\n",
       "      <td>0</td>\n",
       "      <td>1</td>\n",
       "      <td>120/80</td>\n",
       "      <td>0</td>\n",
       "    </tr>\n",
       "    <tr>\n",
       "      <th>3</th>\n",
       "      <td>42924</td>\n",
       "      <td>low</td>\n",
       "      <td>low</td>\n",
       "      <td>0</td>\n",
       "      <td>0</td>\n",
       "      <td>0</td>\n",
       "      <td>120/80</td>\n",
       "      <td>0</td>\n",
       "    </tr>\n",
       "    <tr>\n",
       "      <th>4</th>\n",
       "      <td>52888</td>\n",
       "      <td>low</td>\n",
       "      <td>low</td>\n",
       "      <td>0</td>\n",
       "      <td>0</td>\n",
       "      <td>0</td>\n",
       "      <td>120/80</td>\n",
       "      <td>0</td>\n",
       "    </tr>\n",
       "    <tr>\n",
       "      <th>5</th>\n",
       "      <td>54781</td>\n",
       "      <td>low</td>\n",
       "      <td>low</td>\n",
       "      <td>0</td>\n",
       "      <td>0</td>\n",
       "      <td>1</td>\n",
       "      <td>160/100</td>\n",
       "      <td>0</td>\n",
       "    </tr>\n",
       "    <tr>\n",
       "      <th>6</th>\n",
       "      <td>10661</td>\n",
       "      <td>low</td>\n",
       "      <td>low</td>\n",
       "      <td>0</td>\n",
       "      <td>0</td>\n",
       "      <td>1</td>\n",
       "      <td>120/80</td>\n",
       "      <td>0</td>\n",
       "    </tr>\n",
       "    <tr>\n",
       "      <th>7</th>\n",
       "      <td>12127</td>\n",
       "      <td>low</td>\n",
       "      <td>low</td>\n",
       "      <td>0</td>\n",
       "      <td>0</td>\n",
       "      <td>1</td>\n",
       "      <td>120/80</td>\n",
       "      <td>0</td>\n",
       "    </tr>\n",
       "    <tr>\n",
       "      <th>8</th>\n",
       "      <td>20298</td>\n",
       "      <td>low</td>\n",
       "      <td>low</td>\n",
       "      <td>0</td>\n",
       "      <td>0</td>\n",
       "      <td>1</td>\n",
       "      <td>120/80</td>\n",
       "      <td>0</td>\n",
       "    </tr>\n",
       "    <tr>\n",
       "      <th>9</th>\n",
       "      <td>78105</td>\n",
       "      <td>low</td>\n",
       "      <td>low</td>\n",
       "      <td>0</td>\n",
       "      <td>0</td>\n",
       "      <td>1</td>\n",
       "      <td>123/83</td>\n",
       "      <td>0</td>\n",
       "    </tr>\n",
       "  </tbody>\n",
       "</table>\n",
       "</div>"
      ],
      "text/plain": [
       "      id cholesterol gluc  smoke  alco  active pressure  diabetes\n",
       "0  62538         low  low      0     0       1   100/80         0\n",
       "1  49159         low  low      0     0       1   120/82         0\n",
       "2  60683         low  low      0     0       1   120/80         0\n",
       "3  42924         low  low      0     0       0   120/80         0\n",
       "4  52888         low  low      0     0       0   120/80         0\n",
       "5  54781         low  low      0     0       1  160/100         0\n",
       "6  10661         low  low      0     0       1   120/80         0\n",
       "7  12127         low  low      0     0       1   120/80         0\n",
       "8  20298         low  low      0     0       1   120/80         0\n",
       "9  78105         low  low      0     0       1   123/83         0"
      ]
     },
     "execution_count": 243,
     "metadata": {},
     "output_type": "execute_result"
    }
   ],
   "source": [
    "data1.head(10)"
   ]
  },
  {
   "cell_type": "markdown",
   "id": "482ce689",
   "metadata": {},
   "source": [
    "# Second part Dataset"
   ]
  },
  {
   "cell_type": "code",
   "execution_count": 244,
   "id": "af168360",
   "metadata": {},
   "outputs": [
    {
     "data": {
      "text/html": [
       "<div>\n",
       "<style scoped>\n",
       "    .dataframe tbody tr th:only-of-type {\n",
       "        vertical-align: middle;\n",
       "    }\n",
       "\n",
       "    .dataframe tbody tr th {\n",
       "        vertical-align: top;\n",
       "    }\n",
       "\n",
       "    .dataframe thead th {\n",
       "        text-align: right;\n",
       "    }\n",
       "</style>\n",
       "<table border=\"1\" class=\"dataframe\">\n",
       "  <thead>\n",
       "    <tr style=\"text-align: right;\">\n",
       "      <th></th>\n",
       "      <th>id</th>\n",
       "      <th>age</th>\n",
       "      <th>height</th>\n",
       "      <th>weight</th>\n",
       "      <th>gender</th>\n",
       "    </tr>\n",
       "  </thead>\n",
       "  <tbody>\n",
       "    <tr>\n",
       "      <th>0</th>\n",
       "      <td>0</td>\n",
       "      <td>50</td>\n",
       "      <td>168</td>\n",
       "      <td>62.0</td>\n",
       "      <td>female</td>\n",
       "    </tr>\n",
       "    <tr>\n",
       "      <th>1</th>\n",
       "      <td>1</td>\n",
       "      <td>55</td>\n",
       "      <td>156</td>\n",
       "      <td>85.0</td>\n",
       "      <td>male</td>\n",
       "    </tr>\n",
       "    <tr>\n",
       "      <th>2</th>\n",
       "      <td>2</td>\n",
       "      <td>18857</td>\n",
       "      <td>165</td>\n",
       "      <td>64.0</td>\n",
       "      <td>male</td>\n",
       "    </tr>\n",
       "    <tr>\n",
       "      <th>3</th>\n",
       "      <td>3</td>\n",
       "      <td>17623</td>\n",
       "      <td>169</td>\n",
       "      <td>82.0</td>\n",
       "      <td>female</td>\n",
       "    </tr>\n",
       "    <tr>\n",
       "      <th>4</th>\n",
       "      <td>4</td>\n",
       "      <td>47</td>\n",
       "      <td>156</td>\n",
       "      <td>56.0</td>\n",
       "      <td>male</td>\n",
       "    </tr>\n",
       "  </tbody>\n",
       "</table>\n",
       "</div>"
      ],
      "text/plain": [
       "   id    age  height  weight  gender\n",
       "0   0     50     168    62.0  female\n",
       "1   1     55     156    85.0    male\n",
       "2   2  18857     165    64.0    male\n",
       "3   3  17623     169    82.0  female\n",
       "4   4     47     156    56.0    male"
      ]
     },
     "execution_count": 244,
     "metadata": {},
     "output_type": "execute_result"
    }
   ],
   "source": [
    "data2 = pd.read_csv('diabetes_train_info.csv')\n",
    "data2.head()"
   ]
  },
  {
   "cell_type": "code",
   "execution_count": 245,
   "id": "993727b6",
   "metadata": {},
   "outputs": [
    {
     "data": {
      "text/plain": [
       "id        60000\n",
       "age        7667\n",
       "height      104\n",
       "weight      269\n",
       "gender        2\n",
       "dtype: int64"
      ]
     },
     "execution_count": 245,
     "metadata": {},
     "output_type": "execute_result"
    }
   ],
   "source": [
    "data2.nunique()"
   ]
  },
  {
   "cell_type": "code",
   "execution_count": 246,
   "id": "703f39ce",
   "metadata": {},
   "outputs": [
    {
     "data": {
      "text/plain": [
       "id           0\n",
       "age          0\n",
       "height       0\n",
       "weight    1998\n",
       "gender       0\n",
       "dtype: int64"
      ]
     },
     "execution_count": 246,
     "metadata": {},
     "output_type": "execute_result"
    }
   ],
   "source": [
    "data2.isnull().sum()"
   ]
  },
  {
   "cell_type": "code",
   "execution_count": 247,
   "id": "8419bb21",
   "metadata": {},
   "outputs": [],
   "source": [
    "# To solve the nan values as it is just 3%. So deciding to drop it.\n",
    "data2 = data2.dropna(subset=['weight'])"
   ]
  },
  {
   "cell_type": "code",
   "execution_count": 248,
   "id": "6a2ba0c0",
   "metadata": {},
   "outputs": [
    {
     "data": {
      "text/plain": [
       "id        0\n",
       "age       0\n",
       "height    0\n",
       "weight    0\n",
       "gender    0\n",
       "dtype: int64"
      ]
     },
     "execution_count": 248,
     "metadata": {},
     "output_type": "execute_result"
    }
   ],
   "source": [
    "data2.isnull().sum()"
   ]
  },
  {
   "cell_type": "code",
   "execution_count": 249,
   "id": "6a051945",
   "metadata": {},
   "outputs": [
    {
     "data": {
      "text/html": [
       "<div>\n",
       "<style scoped>\n",
       "    .dataframe tbody tr th:only-of-type {\n",
       "        vertical-align: middle;\n",
       "    }\n",
       "\n",
       "    .dataframe tbody tr th {\n",
       "        vertical-align: top;\n",
       "    }\n",
       "\n",
       "    .dataframe thead th {\n",
       "        text-align: right;\n",
       "    }\n",
       "</style>\n",
       "<table border=\"1\" class=\"dataframe\">\n",
       "  <thead>\n",
       "    <tr style=\"text-align: right;\">\n",
       "      <th></th>\n",
       "      <th>id</th>\n",
       "      <th>age</th>\n",
       "      <th>height</th>\n",
       "      <th>weight</th>\n",
       "      <th>gender</th>\n",
       "    </tr>\n",
       "  </thead>\n",
       "  <tbody>\n",
       "    <tr>\n",
       "      <th>0</th>\n",
       "      <td>0</td>\n",
       "      <td>50</td>\n",
       "      <td>168</td>\n",
       "      <td>62.0</td>\n",
       "      <td>female</td>\n",
       "    </tr>\n",
       "    <tr>\n",
       "      <th>1</th>\n",
       "      <td>1</td>\n",
       "      <td>55</td>\n",
       "      <td>156</td>\n",
       "      <td>85.0</td>\n",
       "      <td>male</td>\n",
       "    </tr>\n",
       "    <tr>\n",
       "      <th>2</th>\n",
       "      <td>2</td>\n",
       "      <td>18857</td>\n",
       "      <td>165</td>\n",
       "      <td>64.0</td>\n",
       "      <td>male</td>\n",
       "    </tr>\n",
       "    <tr>\n",
       "      <th>3</th>\n",
       "      <td>3</td>\n",
       "      <td>17623</td>\n",
       "      <td>169</td>\n",
       "      <td>82.0</td>\n",
       "      <td>female</td>\n",
       "    </tr>\n",
       "    <tr>\n",
       "      <th>4</th>\n",
       "      <td>4</td>\n",
       "      <td>47</td>\n",
       "      <td>156</td>\n",
       "      <td>56.0</td>\n",
       "      <td>male</td>\n",
       "    </tr>\n",
       "    <tr>\n",
       "      <th>5</th>\n",
       "      <td>8</td>\n",
       "      <td>21914</td>\n",
       "      <td>151</td>\n",
       "      <td>67.0</td>\n",
       "      <td>male</td>\n",
       "    </tr>\n",
       "    <tr>\n",
       "      <th>6</th>\n",
       "      <td>9</td>\n",
       "      <td>60</td>\n",
       "      <td>157</td>\n",
       "      <td>93.0</td>\n",
       "      <td>male</td>\n",
       "    </tr>\n",
       "    <tr>\n",
       "      <th>7</th>\n",
       "      <td>12</td>\n",
       "      <td>61</td>\n",
       "      <td>178</td>\n",
       "      <td>95.0</td>\n",
       "      <td>female</td>\n",
       "    </tr>\n",
       "    <tr>\n",
       "      <th>8</th>\n",
       "      <td>13</td>\n",
       "      <td>48</td>\n",
       "      <td>158</td>\n",
       "      <td>71.0</td>\n",
       "      <td>male</td>\n",
       "    </tr>\n",
       "    <tr>\n",
       "      <th>9</th>\n",
       "      <td>14</td>\n",
       "      <td>19834</td>\n",
       "      <td>164</td>\n",
       "      <td>68.0</td>\n",
       "      <td>male</td>\n",
       "    </tr>\n",
       "  </tbody>\n",
       "</table>\n",
       "</div>"
      ],
      "text/plain": [
       "   id    age  height  weight  gender\n",
       "0   0     50     168    62.0  female\n",
       "1   1     55     156    85.0    male\n",
       "2   2  18857     165    64.0    male\n",
       "3   3  17623     169    82.0  female\n",
       "4   4     47     156    56.0    male\n",
       "5   8  21914     151    67.0    male\n",
       "6   9     60     157    93.0    male\n",
       "7  12     61     178    95.0  female\n",
       "8  13     48     158    71.0    male\n",
       "9  14  19834     164    68.0    male"
      ]
     },
     "execution_count": 249,
     "metadata": {},
     "output_type": "execute_result"
    }
   ],
   "source": [
    "data2.head(10)"
   ]
  },
  {
   "cell_type": "markdown",
   "id": "98e32845",
   "metadata": {},
   "source": [
    "# Combining the two data set (Inner Join)"
   ]
  },
  {
   "cell_type": "code",
   "execution_count": 250,
   "id": "30780ff0",
   "metadata": {},
   "outputs": [
    {
     "data": {
      "text/html": [
       "<div>\n",
       "<style scoped>\n",
       "    .dataframe tbody tr th:only-of-type {\n",
       "        vertical-align: middle;\n",
       "    }\n",
       "\n",
       "    .dataframe tbody tr th {\n",
       "        vertical-align: top;\n",
       "    }\n",
       "\n",
       "    .dataframe thead th {\n",
       "        text-align: right;\n",
       "    }\n",
       "</style>\n",
       "<table border=\"1\" class=\"dataframe\">\n",
       "  <thead>\n",
       "    <tr style=\"text-align: right;\">\n",
       "      <th></th>\n",
       "      <th>id</th>\n",
       "      <th>cholesterol</th>\n",
       "      <th>gluc</th>\n",
       "      <th>smoke</th>\n",
       "      <th>alco</th>\n",
       "      <th>active</th>\n",
       "      <th>pressure</th>\n",
       "      <th>diabetes</th>\n",
       "      <th>age</th>\n",
       "      <th>height</th>\n",
       "      <th>weight</th>\n",
       "      <th>gender</th>\n",
       "    </tr>\n",
       "  </thead>\n",
       "  <tbody>\n",
       "    <tr>\n",
       "      <th>0</th>\n",
       "      <td>62538</td>\n",
       "      <td>low</td>\n",
       "      <td>low</td>\n",
       "      <td>0</td>\n",
       "      <td>0</td>\n",
       "      <td>1</td>\n",
       "      <td>100/80</td>\n",
       "      <td>0</td>\n",
       "      <td>54</td>\n",
       "      <td>169</td>\n",
       "      <td>76.0</td>\n",
       "      <td>female</td>\n",
       "    </tr>\n",
       "    <tr>\n",
       "      <th>1</th>\n",
       "      <td>49159</td>\n",
       "      <td>low</td>\n",
       "      <td>low</td>\n",
       "      <td>0</td>\n",
       "      <td>0</td>\n",
       "      <td>1</td>\n",
       "      <td>120/82</td>\n",
       "      <td>0</td>\n",
       "      <td>49</td>\n",
       "      <td>165</td>\n",
       "      <td>65.0</td>\n",
       "      <td>male</td>\n",
       "    </tr>\n",
       "    <tr>\n",
       "      <th>2</th>\n",
       "      <td>60683</td>\n",
       "      <td>low</td>\n",
       "      <td>low</td>\n",
       "      <td>0</td>\n",
       "      <td>0</td>\n",
       "      <td>1</td>\n",
       "      <td>120/80</td>\n",
       "      <td>0</td>\n",
       "      <td>21962</td>\n",
       "      <td>170</td>\n",
       "      <td>56.0</td>\n",
       "      <td>male</td>\n",
       "    </tr>\n",
       "    <tr>\n",
       "      <th>3</th>\n",
       "      <td>42924</td>\n",
       "      <td>low</td>\n",
       "      <td>low</td>\n",
       "      <td>0</td>\n",
       "      <td>0</td>\n",
       "      <td>0</td>\n",
       "      <td>120/80</td>\n",
       "      <td>0</td>\n",
       "      <td>20287</td>\n",
       "      <td>169</td>\n",
       "      <td>62.0</td>\n",
       "      <td>male</td>\n",
       "    </tr>\n",
       "    <tr>\n",
       "      <th>4</th>\n",
       "      <td>52888</td>\n",
       "      <td>low</td>\n",
       "      <td>low</td>\n",
       "      <td>0</td>\n",
       "      <td>0</td>\n",
       "      <td>0</td>\n",
       "      <td>120/80</td>\n",
       "      <td>0</td>\n",
       "      <td>16202</td>\n",
       "      <td>166</td>\n",
       "      <td>67.0</td>\n",
       "      <td>male</td>\n",
       "    </tr>\n",
       "  </tbody>\n",
       "</table>\n",
       "</div>"
      ],
      "text/plain": [
       "      id cholesterol gluc  smoke  alco  active pressure  diabetes    age  \\\n",
       "0  62538         low  low      0     0       1   100/80         0     54   \n",
       "1  49159         low  low      0     0       1   120/82         0     49   \n",
       "2  60683         low  low      0     0       1   120/80         0  21962   \n",
       "3  42924         low  low      0     0       0   120/80         0  20287   \n",
       "4  52888         low  low      0     0       0   120/80         0  16202   \n",
       "\n",
       "   height  weight  gender  \n",
       "0     169    76.0  female  \n",
       "1     165    65.0    male  \n",
       "2     170    56.0    male  \n",
       "3     169    62.0    male  \n",
       "4     166    67.0    male  "
      ]
     },
     "execution_count": 250,
     "metadata": {},
     "output_type": "execute_result"
    }
   ],
   "source": [
    "# using merge function by setting how='inner'.\n",
    "# Basically Joining two tables with respect to id. Taken inner join approach.\n",
    "\n",
    "df = pd.merge(data1, data2, \n",
    "              on='id', \n",
    "              how='inner')\n",
    "df.head()"
   ]
  },
  {
   "cell_type": "code",
   "execution_count": 251,
   "id": "6de70754",
   "metadata": {},
   "outputs": [
    {
     "name": "stdout",
     "output_type": "stream",
     "text": [
      "All Columns names are as follows:-  Index(['id', 'cholesterol', 'gluc', 'smoke', 'alco', 'active', 'pressure',\n",
      "       'diabetes', 'age', 'height', 'weight', 'gender'],\n",
      "      dtype='object')\n",
      "                                                                        \n",
      "------------------------------------------------------------------------\n",
      "Rows and columns are:- (57910, 12)\n",
      "                                                                        \n",
      "------------------------------------------------------------------------\n",
      "dtypes of all columns are as follows:- id               int64\n",
      "cholesterol     object\n",
      "gluc            object\n",
      "smoke            int64\n",
      "alco             int64\n",
      "active           int64\n",
      "pressure        object\n",
      "diabetes         int64\n",
      "age              int64\n",
      "height           int64\n",
      "weight         float64\n",
      "gender          object\n",
      "dtype: object\n",
      "                                                                        \n",
      "------------------------------------------------------------------------\n",
      "Unique values for all columns - id             57910\n",
      "cholesterol        3\n",
      "gluc               3\n",
      "smoke              2\n",
      "alco               2\n",
      "active             2\n",
      "pressure        1090\n",
      "diabetes           2\n",
      "age             7634\n",
      "height           101\n",
      "weight           269\n",
      "gender             2\n",
      "dtype: int64\n",
      "                                                                        \n",
      "------------------------------------------------------------------------\n",
      "Null values for all columns - id             0\n",
      "cholesterol    0\n",
      "gluc           0\n",
      "smoke          0\n",
      "alco           0\n",
      "active         0\n",
      "pressure       0\n",
      "diabetes       0\n",
      "age            0\n",
      "height         0\n",
      "weight         0\n",
      "gender         0\n",
      "dtype: int64\n"
     ]
    }
   ],
   "source": [
    "print(\"All Columns names are as follows:- \",df.columns)\n",
    "print(\"                                                                        \")\n",
    "print(\"------------------------------------------------------------------------\")\n",
    "print(\"Rows and columns are:-\",df.shape)\n",
    "print(\"                                                                        \")\n",
    "print(\"------------------------------------------------------------------------\")\n",
    "print(\"dtypes of all columns are as follows:-\",df.dtypes)\n",
    "print(\"                                                                        \")\n",
    "print(\"------------------------------------------------------------------------\")\n",
    "print(\"Unique values for all columns -\",df.nunique())\n",
    "print(\"                                                                        \")\n",
    "print(\"------------------------------------------------------------------------\")\n",
    "print(\"Null values for all columns -\",df.isnull().sum())"
   ]
  },
  {
   "cell_type": "code",
   "execution_count": 252,
   "id": "f49d68f0",
   "metadata": {},
   "outputs": [],
   "source": [
    "# Remove column name 'id'\n",
    "df.drop(['id'], axis=1, inplace=True)\n",
    "\n",
    "# Replacing the categorical values into binary values\n",
    "# gender column\n",
    "df = df.replace({'female':0,'male':1})\n",
    "#df = df.replace({'f':0,'m':1})\n",
    "\n",
    "# replace space with another character\n",
    "df.pressure = df.pressure.str.replace(' ', '')"
   ]
  },
  {
   "cell_type": "code",
   "execution_count": 253,
   "id": "dcec623d",
   "metadata": {},
   "outputs": [
    {
     "data": {
      "text/html": [
       "<div>\n",
       "<style scoped>\n",
       "    .dataframe tbody tr th:only-of-type {\n",
       "        vertical-align: middle;\n",
       "    }\n",
       "\n",
       "    .dataframe tbody tr th {\n",
       "        vertical-align: top;\n",
       "    }\n",
       "\n",
       "    .dataframe thead th {\n",
       "        text-align: right;\n",
       "    }\n",
       "</style>\n",
       "<table border=\"1\" class=\"dataframe\">\n",
       "  <thead>\n",
       "    <tr style=\"text-align: right;\">\n",
       "      <th></th>\n",
       "      <th>cholesterol</th>\n",
       "      <th>gluc</th>\n",
       "      <th>smoke</th>\n",
       "      <th>alco</th>\n",
       "      <th>active</th>\n",
       "      <th>pressure</th>\n",
       "      <th>diabetes</th>\n",
       "      <th>age</th>\n",
       "      <th>height</th>\n",
       "      <th>weight</th>\n",
       "      <th>gender</th>\n",
       "    </tr>\n",
       "  </thead>\n",
       "  <tbody>\n",
       "    <tr>\n",
       "      <th>0</th>\n",
       "      <td>low</td>\n",
       "      <td>low</td>\n",
       "      <td>0</td>\n",
       "      <td>0</td>\n",
       "      <td>1</td>\n",
       "      <td>100/80</td>\n",
       "      <td>0</td>\n",
       "      <td>54</td>\n",
       "      <td>169</td>\n",
       "      <td>76.0</td>\n",
       "      <td>0</td>\n",
       "    </tr>\n",
       "    <tr>\n",
       "      <th>1</th>\n",
       "      <td>low</td>\n",
       "      <td>low</td>\n",
       "      <td>0</td>\n",
       "      <td>0</td>\n",
       "      <td>1</td>\n",
       "      <td>120/82</td>\n",
       "      <td>0</td>\n",
       "      <td>49</td>\n",
       "      <td>165</td>\n",
       "      <td>65.0</td>\n",
       "      <td>1</td>\n",
       "    </tr>\n",
       "    <tr>\n",
       "      <th>2</th>\n",
       "      <td>low</td>\n",
       "      <td>low</td>\n",
       "      <td>0</td>\n",
       "      <td>0</td>\n",
       "      <td>1</td>\n",
       "      <td>120/80</td>\n",
       "      <td>0</td>\n",
       "      <td>21962</td>\n",
       "      <td>170</td>\n",
       "      <td>56.0</td>\n",
       "      <td>1</td>\n",
       "    </tr>\n",
       "    <tr>\n",
       "      <th>3</th>\n",
       "      <td>low</td>\n",
       "      <td>low</td>\n",
       "      <td>0</td>\n",
       "      <td>0</td>\n",
       "      <td>0</td>\n",
       "      <td>120/80</td>\n",
       "      <td>0</td>\n",
       "      <td>20287</td>\n",
       "      <td>169</td>\n",
       "      <td>62.0</td>\n",
       "      <td>1</td>\n",
       "    </tr>\n",
       "    <tr>\n",
       "      <th>4</th>\n",
       "      <td>low</td>\n",
       "      <td>low</td>\n",
       "      <td>0</td>\n",
       "      <td>0</td>\n",
       "      <td>0</td>\n",
       "      <td>120/80</td>\n",
       "      <td>0</td>\n",
       "      <td>16202</td>\n",
       "      <td>166</td>\n",
       "      <td>67.0</td>\n",
       "      <td>1</td>\n",
       "    </tr>\n",
       "  </tbody>\n",
       "</table>\n",
       "</div>"
      ],
      "text/plain": [
       "  cholesterol gluc  smoke  alco  active pressure  diabetes    age  height  \\\n",
       "0         low  low      0     0       1   100/80         0     54     169   \n",
       "1         low  low      0     0       1   120/82         0     49     165   \n",
       "2         low  low      0     0       1   120/80         0  21962     170   \n",
       "3         low  low      0     0       0   120/80         0  20287     169   \n",
       "4         low  low      0     0       0   120/80         0  16202     166   \n",
       "\n",
       "   weight  gender  \n",
       "0    76.0       0  \n",
       "1    65.0       1  \n",
       "2    56.0       1  \n",
       "3    62.0       1  \n",
       "4    67.0       1  "
      ]
     },
     "execution_count": 253,
     "metadata": {},
     "output_type": "execute_result"
    }
   ],
   "source": [
    "df.head()"
   ]
  },
  {
   "cell_type": "code",
   "execution_count": 254,
   "id": "db83eb19",
   "metadata": {},
   "outputs": [
    {
     "data": {
      "text/plain": [
       "cholesterol     object\n",
       "gluc            object\n",
       "smoke            int64\n",
       "alco             int64\n",
       "active           int64\n",
       "pressure        object\n",
       "diabetes         int64\n",
       "age              int64\n",
       "height           int64\n",
       "weight         float64\n",
       "gender           int64\n",
       "dtype: object"
      ]
     },
     "execution_count": 254,
     "metadata": {},
     "output_type": "execute_result"
    }
   ],
   "source": [
    "df.dtypes"
   ]
  },
  {
   "cell_type": "code",
   "execution_count": 255,
   "id": "d57cd18e",
   "metadata": {},
   "outputs": [
    {
     "data": {
      "text/plain": [
       "(57910, 11)"
      ]
     },
     "execution_count": 255,
     "metadata": {},
     "output_type": "execute_result"
    }
   ],
   "source": [
    "df.shape"
   ]
  },
  {
   "cell_type": "code",
   "execution_count": 256,
   "id": "976c572c",
   "metadata": {},
   "outputs": [
    {
     "data": {
      "text/html": [
       "<div>\n",
       "<style scoped>\n",
       "    .dataframe tbody tr th:only-of-type {\n",
       "        vertical-align: middle;\n",
       "    }\n",
       "\n",
       "    .dataframe tbody tr th {\n",
       "        vertical-align: top;\n",
       "    }\n",
       "\n",
       "    .dataframe thead th {\n",
       "        text-align: right;\n",
       "    }\n",
       "</style>\n",
       "<table border=\"1\" class=\"dataframe\">\n",
       "  <thead>\n",
       "    <tr style=\"text-align: right;\">\n",
       "      <th></th>\n",
       "      <th>count</th>\n",
       "      <th>mean</th>\n",
       "      <th>std</th>\n",
       "      <th>min</th>\n",
       "      <th>25%</th>\n",
       "      <th>50%</th>\n",
       "      <th>75%</th>\n",
       "      <th>max</th>\n",
       "    </tr>\n",
       "  </thead>\n",
       "  <tbody>\n",
       "    <tr>\n",
       "      <th>smoke</th>\n",
       "      <td>57910.0</td>\n",
       "      <td>0.087567</td>\n",
       "      <td>0.282666</td>\n",
       "      <td>0.0</td>\n",
       "      <td>0.0</td>\n",
       "      <td>0.0</td>\n",
       "      <td>0.0</td>\n",
       "      <td>1.0</td>\n",
       "    </tr>\n",
       "    <tr>\n",
       "      <th>alco</th>\n",
       "      <td>57910.0</td>\n",
       "      <td>0.053255</td>\n",
       "      <td>0.224544</td>\n",
       "      <td>0.0</td>\n",
       "      <td>0.0</td>\n",
       "      <td>0.0</td>\n",
       "      <td>0.0</td>\n",
       "      <td>1.0</td>\n",
       "    </tr>\n",
       "    <tr>\n",
       "      <th>active</th>\n",
       "      <td>57910.0</td>\n",
       "      <td>0.803713</td>\n",
       "      <td>0.397192</td>\n",
       "      <td>0.0</td>\n",
       "      <td>1.0</td>\n",
       "      <td>1.0</td>\n",
       "      <td>1.0</td>\n",
       "      <td>1.0</td>\n",
       "    </tr>\n",
       "    <tr>\n",
       "      <th>diabetes</th>\n",
       "      <td>57910.0</td>\n",
       "      <td>0.250509</td>\n",
       "      <td>0.433310</td>\n",
       "      <td>0.0</td>\n",
       "      <td>0.0</td>\n",
       "      <td>0.0</td>\n",
       "      <td>1.0</td>\n",
       "      <td>1.0</td>\n",
       "    </tr>\n",
       "    <tr>\n",
       "      <th>age</th>\n",
       "      <td>57910.0</td>\n",
       "      <td>13666.581471</td>\n",
       "      <td>9128.717544</td>\n",
       "      <td>30.0</td>\n",
       "      <td>60.0</td>\n",
       "      <td>18173.0</td>\n",
       "      <td>20581.0</td>\n",
       "      <td>23687.0</td>\n",
       "    </tr>\n",
       "    <tr>\n",
       "      <th>height</th>\n",
       "      <td>57910.0</td>\n",
       "      <td>164.313020</td>\n",
       "      <td>8.192021</td>\n",
       "      <td>55.0</td>\n",
       "      <td>159.0</td>\n",
       "      <td>165.0</td>\n",
       "      <td>170.0</td>\n",
       "      <td>250.0</td>\n",
       "    </tr>\n",
       "    <tr>\n",
       "      <th>weight</th>\n",
       "      <td>57910.0</td>\n",
       "      <td>74.192974</td>\n",
       "      <td>14.612125</td>\n",
       "      <td>10.0</td>\n",
       "      <td>65.0</td>\n",
       "      <td>71.0</td>\n",
       "      <td>82.0</td>\n",
       "      <td>200.0</td>\n",
       "    </tr>\n",
       "    <tr>\n",
       "      <th>gender</th>\n",
       "      <td>57910.0</td>\n",
       "      <td>0.653669</td>\n",
       "      <td>0.475804</td>\n",
       "      <td>0.0</td>\n",
       "      <td>0.0</td>\n",
       "      <td>1.0</td>\n",
       "      <td>1.0</td>\n",
       "      <td>1.0</td>\n",
       "    </tr>\n",
       "  </tbody>\n",
       "</table>\n",
       "</div>"
      ],
      "text/plain": [
       "            count          mean          std   min    25%      50%      75%  \\\n",
       "smoke     57910.0      0.087567     0.282666   0.0    0.0      0.0      0.0   \n",
       "alco      57910.0      0.053255     0.224544   0.0    0.0      0.0      0.0   \n",
       "active    57910.0      0.803713     0.397192   0.0    1.0      1.0      1.0   \n",
       "diabetes  57910.0      0.250509     0.433310   0.0    0.0      0.0      1.0   \n",
       "age       57910.0  13666.581471  9128.717544  30.0   60.0  18173.0  20581.0   \n",
       "height    57910.0    164.313020     8.192021  55.0  159.0    165.0    170.0   \n",
       "weight    57910.0     74.192974    14.612125  10.0   65.0     71.0     82.0   \n",
       "gender    57910.0      0.653669     0.475804   0.0    0.0      1.0      1.0   \n",
       "\n",
       "              max  \n",
       "smoke         1.0  \n",
       "alco          1.0  \n",
       "active        1.0  \n",
       "diabetes      1.0  \n",
       "age       23687.0  \n",
       "height      250.0  \n",
       "weight      200.0  \n",
       "gender        1.0  "
      ]
     },
     "execution_count": 256,
     "metadata": {},
     "output_type": "execute_result"
    }
   ],
   "source": [
    "df.describe().T"
   ]
  },
  {
   "cell_type": "markdown",
   "id": "7e4e1d12",
   "metadata": {},
   "source": [
    "# NOTICE -  There are outlier in (age, Upper_pressure, Lower_pressure)"
   ]
  },
  {
   "cell_type": "markdown",
   "id": "df876055",
   "metadata": {},
   "source": [
    "# Outlier In Age Feature"
   ]
  },
  {
   "cell_type": "markdown",
   "id": "a16b2078",
   "metadata": {},
   "source": [
    "# upper age is practicaly not possible what is mentioned in data set as it it demo data."
   ]
  },
  {
   "cell_type": "markdown",
   "id": "3290ebb7",
   "metadata": {},
   "source": [
    "# so I am taking 64 years."
   ]
  },
  {
   "cell_type": "markdown",
   "id": "1ae9d2c3",
   "metadata": {},
   "source": [
    "# Min age in data set is 30 years."
   ]
  },
  {
   "cell_type": "markdown",
   "id": "273490f2",
   "metadata": {},
   "source": [
    "# Max age I have taken 100. I kniow lots of data is wasted. But unrealistic age is mentioned which should be treated as real life scenario."
   ]
  },
  {
   "cell_type": "code",
   "execution_count": 257,
   "id": "c6f5d898",
   "metadata": {},
   "outputs": [
    {
     "data": {
      "text/plain": [
       "30"
      ]
     },
     "execution_count": 257,
     "metadata": {},
     "output_type": "execute_result"
    }
   ],
   "source": [
    "min_threshold_age = df['age'].min()\n",
    "min_threshold_age"
   ]
  },
  {
   "cell_type": "code",
   "execution_count": 258,
   "id": "178d3ee6",
   "metadata": {},
   "outputs": [],
   "source": [
    "max_threshold_age = 100"
   ]
  },
  {
   "cell_type": "code",
   "execution_count": 259,
   "id": "587ba794",
   "metadata": {},
   "outputs": [],
   "source": [
    "df = df[(df.age<=max_threshold_age) & (df.age>=min_threshold_age)]"
   ]
  },
  {
   "cell_type": "code",
   "execution_count": 260,
   "id": "f337c36f",
   "metadata": {},
   "outputs": [
    {
     "data": {
      "text/plain": [
       "(17317, 11)"
      ]
     },
     "execution_count": 260,
     "metadata": {},
     "output_type": "execute_result"
    }
   ],
   "source": [
    "df.shape"
   ]
  },
  {
   "cell_type": "markdown",
   "id": "c24bd436",
   "metadata": {},
   "source": [
    "# Feature Engineering"
   ]
  },
  {
   "cell_type": "code",
   "execution_count": 261,
   "id": "724a0da5",
   "metadata": {},
   "outputs": [],
   "source": [
    "# Perform featue engineering by splitting the pressure vales.\n",
    "df = df.join(df['pressure'].str.split('/', 1, expand=True).rename(columns={0:'Upper_pressure', 1:'Lower_pressure'}))"
   ]
  },
  {
   "cell_type": "code",
   "execution_count": 262,
   "id": "8370498f",
   "metadata": {},
   "outputs": [
    {
     "data": {
      "text/html": [
       "<div>\n",
       "<style scoped>\n",
       "    .dataframe tbody tr th:only-of-type {\n",
       "        vertical-align: middle;\n",
       "    }\n",
       "\n",
       "    .dataframe tbody tr th {\n",
       "        vertical-align: top;\n",
       "    }\n",
       "\n",
       "    .dataframe thead th {\n",
       "        text-align: right;\n",
       "    }\n",
       "</style>\n",
       "<table border=\"1\" class=\"dataframe\">\n",
       "  <thead>\n",
       "    <tr style=\"text-align: right;\">\n",
       "      <th></th>\n",
       "      <th>cholesterol</th>\n",
       "      <th>gluc</th>\n",
       "      <th>smoke</th>\n",
       "      <th>alco</th>\n",
       "      <th>active</th>\n",
       "      <th>pressure</th>\n",
       "      <th>diabetes</th>\n",
       "      <th>age</th>\n",
       "      <th>height</th>\n",
       "      <th>weight</th>\n",
       "      <th>gender</th>\n",
       "      <th>Upper_pressure</th>\n",
       "      <th>Lower_pressure</th>\n",
       "    </tr>\n",
       "  </thead>\n",
       "  <tbody>\n",
       "    <tr>\n",
       "      <th>0</th>\n",
       "      <td>low</td>\n",
       "      <td>low</td>\n",
       "      <td>0</td>\n",
       "      <td>0</td>\n",
       "      <td>1</td>\n",
       "      <td>100/80</td>\n",
       "      <td>0</td>\n",
       "      <td>54</td>\n",
       "      <td>169</td>\n",
       "      <td>76.0</td>\n",
       "      <td>0</td>\n",
       "      <td>100</td>\n",
       "      <td>80</td>\n",
       "    </tr>\n",
       "    <tr>\n",
       "      <th>1</th>\n",
       "      <td>low</td>\n",
       "      <td>low</td>\n",
       "      <td>0</td>\n",
       "      <td>0</td>\n",
       "      <td>1</td>\n",
       "      <td>120/82</td>\n",
       "      <td>0</td>\n",
       "      <td>49</td>\n",
       "      <td>165</td>\n",
       "      <td>65.0</td>\n",
       "      <td>1</td>\n",
       "      <td>120</td>\n",
       "      <td>82</td>\n",
       "    </tr>\n",
       "    <tr>\n",
       "      <th>14</th>\n",
       "      <td>medium</td>\n",
       "      <td>low</td>\n",
       "      <td>0</td>\n",
       "      <td>0</td>\n",
       "      <td>1</td>\n",
       "      <td>110/80</td>\n",
       "      <td>0</td>\n",
       "      <td>53</td>\n",
       "      <td>164</td>\n",
       "      <td>68.0</td>\n",
       "      <td>1</td>\n",
       "      <td>110</td>\n",
       "      <td>80</td>\n",
       "    </tr>\n",
       "    <tr>\n",
       "      <th>15</th>\n",
       "      <td>low</td>\n",
       "      <td>low</td>\n",
       "      <td>0</td>\n",
       "      <td>0</td>\n",
       "      <td>0</td>\n",
       "      <td>120/80</td>\n",
       "      <td>0</td>\n",
       "      <td>41</td>\n",
       "      <td>169</td>\n",
       "      <td>86.0</td>\n",
       "      <td>0</td>\n",
       "      <td>120</td>\n",
       "      <td>80</td>\n",
       "    </tr>\n",
       "    <tr>\n",
       "      <th>20</th>\n",
       "      <td>low</td>\n",
       "      <td>low</td>\n",
       "      <td>0</td>\n",
       "      <td>0</td>\n",
       "      <td>1</td>\n",
       "      <td>130/80</td>\n",
       "      <td>0</td>\n",
       "      <td>64</td>\n",
       "      <td>163</td>\n",
       "      <td>112.0</td>\n",
       "      <td>1</td>\n",
       "      <td>130</td>\n",
       "      <td>80</td>\n",
       "    </tr>\n",
       "  </tbody>\n",
       "</table>\n",
       "</div>"
      ],
      "text/plain": [
       "   cholesterol gluc  smoke  alco  active pressure  diabetes  age  height  \\\n",
       "0          low  low      0     0       1   100/80         0   54     169   \n",
       "1          low  low      0     0       1   120/82         0   49     165   \n",
       "14      medium  low      0     0       1   110/80         0   53     164   \n",
       "15         low  low      0     0       0   120/80         0   41     169   \n",
       "20         low  low      0     0       1   130/80         0   64     163   \n",
       "\n",
       "    weight  gender Upper_pressure Lower_pressure  \n",
       "0     76.0       0            100             80  \n",
       "1     65.0       1            120             82  \n",
       "14    68.0       1            110             80  \n",
       "15    86.0       0            120             80  \n",
       "20   112.0       1            130             80  "
      ]
     },
     "execution_count": 262,
     "metadata": {},
     "output_type": "execute_result"
    }
   ],
   "source": [
    "df.head()"
   ]
  },
  {
   "cell_type": "code",
   "execution_count": 263,
   "id": "60a72626",
   "metadata": {},
   "outputs": [],
   "source": [
    "# Dropping pressure column as it is been delted.\n",
    "df.drop('pressure', axis=1, inplace=True)"
   ]
  },
  {
   "cell_type": "code",
   "execution_count": 264,
   "id": "27acc494",
   "metadata": {},
   "outputs": [
    {
     "data": {
      "text/html": [
       "<div>\n",
       "<style scoped>\n",
       "    .dataframe tbody tr th:only-of-type {\n",
       "        vertical-align: middle;\n",
       "    }\n",
       "\n",
       "    .dataframe tbody tr th {\n",
       "        vertical-align: top;\n",
       "    }\n",
       "\n",
       "    .dataframe thead th {\n",
       "        text-align: right;\n",
       "    }\n",
       "</style>\n",
       "<table border=\"1\" class=\"dataframe\">\n",
       "  <thead>\n",
       "    <tr style=\"text-align: right;\">\n",
       "      <th></th>\n",
       "      <th>cholesterol</th>\n",
       "      <th>gluc</th>\n",
       "      <th>smoke</th>\n",
       "      <th>alco</th>\n",
       "      <th>active</th>\n",
       "      <th>diabetes</th>\n",
       "      <th>age</th>\n",
       "      <th>height</th>\n",
       "      <th>weight</th>\n",
       "      <th>gender</th>\n",
       "      <th>Upper_pressure</th>\n",
       "      <th>Lower_pressure</th>\n",
       "    </tr>\n",
       "  </thead>\n",
       "  <tbody>\n",
       "    <tr>\n",
       "      <th>0</th>\n",
       "      <td>low</td>\n",
       "      <td>low</td>\n",
       "      <td>0</td>\n",
       "      <td>0</td>\n",
       "      <td>1</td>\n",
       "      <td>0</td>\n",
       "      <td>54</td>\n",
       "      <td>169</td>\n",
       "      <td>76.0</td>\n",
       "      <td>0</td>\n",
       "      <td>100</td>\n",
       "      <td>80</td>\n",
       "    </tr>\n",
       "    <tr>\n",
       "      <th>1</th>\n",
       "      <td>low</td>\n",
       "      <td>low</td>\n",
       "      <td>0</td>\n",
       "      <td>0</td>\n",
       "      <td>1</td>\n",
       "      <td>0</td>\n",
       "      <td>49</td>\n",
       "      <td>165</td>\n",
       "      <td>65.0</td>\n",
       "      <td>1</td>\n",
       "      <td>120</td>\n",
       "      <td>82</td>\n",
       "    </tr>\n",
       "    <tr>\n",
       "      <th>14</th>\n",
       "      <td>medium</td>\n",
       "      <td>low</td>\n",
       "      <td>0</td>\n",
       "      <td>0</td>\n",
       "      <td>1</td>\n",
       "      <td>0</td>\n",
       "      <td>53</td>\n",
       "      <td>164</td>\n",
       "      <td>68.0</td>\n",
       "      <td>1</td>\n",
       "      <td>110</td>\n",
       "      <td>80</td>\n",
       "    </tr>\n",
       "    <tr>\n",
       "      <th>15</th>\n",
       "      <td>low</td>\n",
       "      <td>low</td>\n",
       "      <td>0</td>\n",
       "      <td>0</td>\n",
       "      <td>0</td>\n",
       "      <td>0</td>\n",
       "      <td>41</td>\n",
       "      <td>169</td>\n",
       "      <td>86.0</td>\n",
       "      <td>0</td>\n",
       "      <td>120</td>\n",
       "      <td>80</td>\n",
       "    </tr>\n",
       "    <tr>\n",
       "      <th>20</th>\n",
       "      <td>low</td>\n",
       "      <td>low</td>\n",
       "      <td>0</td>\n",
       "      <td>0</td>\n",
       "      <td>1</td>\n",
       "      <td>0</td>\n",
       "      <td>64</td>\n",
       "      <td>163</td>\n",
       "      <td>112.0</td>\n",
       "      <td>1</td>\n",
       "      <td>130</td>\n",
       "      <td>80</td>\n",
       "    </tr>\n",
       "  </tbody>\n",
       "</table>\n",
       "</div>"
      ],
      "text/plain": [
       "   cholesterol gluc  smoke  alco  active  diabetes  age  height  weight  \\\n",
       "0          low  low      0     0       1         0   54     169    76.0   \n",
       "1          low  low      0     0       1         0   49     165    65.0   \n",
       "14      medium  low      0     0       1         0   53     164    68.0   \n",
       "15         low  low      0     0       0         0   41     169    86.0   \n",
       "20         low  low      0     0       1         0   64     163   112.0   \n",
       "\n",
       "    gender Upper_pressure Lower_pressure  \n",
       "0        0            100             80  \n",
       "1        1            120             82  \n",
       "14       1            110             80  \n",
       "15       0            120             80  \n",
       "20       1            130             80  "
      ]
     },
     "execution_count": 264,
     "metadata": {},
     "output_type": "execute_result"
    }
   ],
   "source": [
    "df.head()"
   ]
  },
  {
   "cell_type": "code",
   "execution_count": 265,
   "id": "20c00187",
   "metadata": {},
   "outputs": [
    {
     "data": {
      "text/plain": [
       "cholesterol       0\n",
       "gluc              0\n",
       "smoke             0\n",
       "alco              0\n",
       "active            0\n",
       "diabetes          0\n",
       "age               0\n",
       "height            0\n",
       "weight            0\n",
       "gender            0\n",
       "Upper_pressure    0\n",
       "Lower_pressure    0\n",
       "dtype: int64"
      ]
     },
     "execution_count": 265,
     "metadata": {},
     "output_type": "execute_result"
    }
   ],
   "source": [
    "df.isnull().sum()"
   ]
  },
  {
   "cell_type": "code",
   "execution_count": 266,
   "id": "6ecaa098",
   "metadata": {},
   "outputs": [
    {
     "data": {
      "text/plain": [
       "cholesterol        object\n",
       "gluc               object\n",
       "smoke               int64\n",
       "alco                int64\n",
       "active              int64\n",
       "diabetes            int64\n",
       "age                 int64\n",
       "height              int64\n",
       "weight            float64\n",
       "gender              int64\n",
       "Upper_pressure     object\n",
       "Lower_pressure     object\n",
       "dtype: object"
      ]
     },
     "execution_count": 266,
     "metadata": {},
     "output_type": "execute_result"
    }
   ],
   "source": [
    "df.dtypes"
   ]
  },
  {
   "cell_type": "code",
   "execution_count": 267,
   "id": "c3724d25",
   "metadata": {},
   "outputs": [],
   "source": [
    "# Upper_pressure data type handling\n",
    "df[\"Upper_pressure\"] = df[\"Upper_pressure\"].astype(int)"
   ]
  },
  {
   "cell_type": "code",
   "execution_count": 268,
   "id": "496e8c66",
   "metadata": {},
   "outputs": [],
   "source": [
    "# Lower_pressure data type handling\n",
    "df[\"Lower_pressure\"] = df[\"Lower_pressure\"].astype(int)"
   ]
  },
  {
   "cell_type": "code",
   "execution_count": 269,
   "id": "422a82ca",
   "metadata": {},
   "outputs": [
    {
     "data": {
      "text/plain": [
       "cholesterol        object\n",
       "gluc               object\n",
       "smoke               int64\n",
       "alco                int64\n",
       "active              int64\n",
       "diabetes            int64\n",
       "age                 int64\n",
       "height              int64\n",
       "weight            float64\n",
       "gender              int64\n",
       "Upper_pressure      int32\n",
       "Lower_pressure      int32\n",
       "dtype: object"
      ]
     },
     "execution_count": 269,
     "metadata": {},
     "output_type": "execute_result"
    }
   ],
   "source": [
    "df.dtypes"
   ]
  },
  {
   "cell_type": "markdown",
   "id": "567acfe1",
   "metadata": {},
   "source": [
    "# Domain Knowledge - Upper pressure max value can be 90- 180 (above it hypertensive emergency )"
   ]
  },
  {
   "cell_type": "markdown",
   "id": "829b0c4a",
   "metadata": {},
   "source": [
    "# Domain Knowledge - Lower pressure max value can be 60-80"
   ]
  },
  {
   "cell_type": "markdown",
   "id": "36b9af91",
   "metadata": {},
   "source": [
    "# Outlier Removal in Upper_pressure & Lower_pressure feature"
   ]
  },
  {
   "cell_type": "code",
   "execution_count": 270,
   "id": "7134ffd0",
   "metadata": {},
   "outputs": [
    {
     "data": {
      "text/plain": [
       "180.0"
      ]
     },
     "execution_count": 270,
     "metadata": {},
     "output_type": "execute_result"
    }
   ],
   "source": [
    "max_threshold_UP = df['Upper_pressure'].quantile(0.99)\n",
    "max_threshold_UP"
   ]
  },
  {
   "cell_type": "code",
   "execution_count": 271,
   "id": "425a09ca",
   "metadata": {},
   "outputs": [
    {
     "data": {
      "text/plain": [
       "90.0"
      ]
     },
     "execution_count": 271,
     "metadata": {},
     "output_type": "execute_result"
    }
   ],
   "source": [
    "min_threshold_UP = df['Upper_pressure'].quantile(0.01)\n",
    "min_threshold_UP"
   ]
  },
  {
   "cell_type": "code",
   "execution_count": 272,
   "id": "9f0628a5",
   "metadata": {},
   "outputs": [],
   "source": [
    "df = df[(df.Upper_pressure<=max_threshold_UP) & (df.Upper_pressure>=min_threshold_UP)]"
   ]
  },
  {
   "cell_type": "code",
   "execution_count": 273,
   "id": "4376d741",
   "metadata": {},
   "outputs": [
    {
     "data": {
      "text/plain": [
       "65.0"
      ]
     },
     "execution_count": 273,
     "metadata": {},
     "output_type": "execute_result"
    }
   ],
   "source": [
    "min_threshold_LP = df['Lower_pressure'].quantile(0.04)\n",
    "min_threshold_LP"
   ]
  },
  {
   "cell_type": "code",
   "execution_count": 274,
   "id": "96bf8b1f",
   "metadata": {},
   "outputs": [
    {
     "data": {
      "text/plain": [
       "85.0"
      ]
     },
     "execution_count": 274,
     "metadata": {},
     "output_type": "execute_result"
    }
   ],
   "source": [
    "max_threshold_LP = df['Lower_pressure'].quantile(0.7)\n",
    "max_threshold_LP"
   ]
  },
  {
   "cell_type": "code",
   "execution_count": 275,
   "id": "8cfb3af8",
   "metadata": {},
   "outputs": [],
   "source": [
    "df = df[(df.Lower_pressure<=max_threshold_LP) & (df.Lower_pressure>=min_threshold_LP)]"
   ]
  },
  {
   "cell_type": "code",
   "execution_count": 276,
   "id": "1678871c",
   "metadata": {},
   "outputs": [
    {
     "data": {
      "text/plain": [
       "(11349, 12)"
      ]
     },
     "execution_count": 276,
     "metadata": {},
     "output_type": "execute_result"
    }
   ],
   "source": [
    "df.shape"
   ]
  },
  {
   "cell_type": "markdown",
   "id": "60b74635",
   "metadata": {},
   "source": [
    "# Performing OrdinalEncoder on Two Categorical features"
   ]
  },
  {
   "cell_type": "code",
   "execution_count": 277,
   "id": "3f8e24eb",
   "metadata": {},
   "outputs": [],
   "source": [
    "from sklearn.preprocessing import OrdinalEncoder\n",
    "\n",
    "order_label_cholesterol = {\"high\":2,\"medium\":1,\"low\":0}\n",
    "order_label_gluc = {\"high\":2,\"medium\":1,\"low\":0}\n",
    "\n",
    "df['cholesterol'] = df['cholesterol'].map(order_label_cholesterol)\n",
    "df['gluc'] = df['gluc'].map(order_label_gluc)"
   ]
  },
  {
   "cell_type": "code",
   "execution_count": 278,
   "id": "4e30361a",
   "metadata": {},
   "outputs": [
    {
     "data": {
      "text/html": [
       "<div>\n",
       "<style scoped>\n",
       "    .dataframe tbody tr th:only-of-type {\n",
       "        vertical-align: middle;\n",
       "    }\n",
       "\n",
       "    .dataframe tbody tr th {\n",
       "        vertical-align: top;\n",
       "    }\n",
       "\n",
       "    .dataframe thead th {\n",
       "        text-align: right;\n",
       "    }\n",
       "</style>\n",
       "<table border=\"1\" class=\"dataframe\">\n",
       "  <thead>\n",
       "    <tr style=\"text-align: right;\">\n",
       "      <th></th>\n",
       "      <th>cholesterol</th>\n",
       "      <th>gluc</th>\n",
       "      <th>smoke</th>\n",
       "      <th>alco</th>\n",
       "      <th>active</th>\n",
       "      <th>diabetes</th>\n",
       "      <th>age</th>\n",
       "      <th>height</th>\n",
       "      <th>weight</th>\n",
       "      <th>gender</th>\n",
       "      <th>Upper_pressure</th>\n",
       "      <th>Lower_pressure</th>\n",
       "    </tr>\n",
       "  </thead>\n",
       "  <tbody>\n",
       "    <tr>\n",
       "      <th>0</th>\n",
       "      <td>0</td>\n",
       "      <td>0</td>\n",
       "      <td>0</td>\n",
       "      <td>0</td>\n",
       "      <td>1</td>\n",
       "      <td>0</td>\n",
       "      <td>54</td>\n",
       "      <td>169</td>\n",
       "      <td>76.0</td>\n",
       "      <td>0</td>\n",
       "      <td>100</td>\n",
       "      <td>80</td>\n",
       "    </tr>\n",
       "    <tr>\n",
       "      <th>1</th>\n",
       "      <td>0</td>\n",
       "      <td>0</td>\n",
       "      <td>0</td>\n",
       "      <td>0</td>\n",
       "      <td>1</td>\n",
       "      <td>0</td>\n",
       "      <td>49</td>\n",
       "      <td>165</td>\n",
       "      <td>65.0</td>\n",
       "      <td>1</td>\n",
       "      <td>120</td>\n",
       "      <td>82</td>\n",
       "    </tr>\n",
       "    <tr>\n",
       "      <th>14</th>\n",
       "      <td>1</td>\n",
       "      <td>0</td>\n",
       "      <td>0</td>\n",
       "      <td>0</td>\n",
       "      <td>1</td>\n",
       "      <td>0</td>\n",
       "      <td>53</td>\n",
       "      <td>164</td>\n",
       "      <td>68.0</td>\n",
       "      <td>1</td>\n",
       "      <td>110</td>\n",
       "      <td>80</td>\n",
       "    </tr>\n",
       "    <tr>\n",
       "      <th>15</th>\n",
       "      <td>0</td>\n",
       "      <td>0</td>\n",
       "      <td>0</td>\n",
       "      <td>0</td>\n",
       "      <td>0</td>\n",
       "      <td>0</td>\n",
       "      <td>41</td>\n",
       "      <td>169</td>\n",
       "      <td>86.0</td>\n",
       "      <td>0</td>\n",
       "      <td>120</td>\n",
       "      <td>80</td>\n",
       "    </tr>\n",
       "    <tr>\n",
       "      <th>20</th>\n",
       "      <td>0</td>\n",
       "      <td>0</td>\n",
       "      <td>0</td>\n",
       "      <td>0</td>\n",
       "      <td>1</td>\n",
       "      <td>0</td>\n",
       "      <td>64</td>\n",
       "      <td>163</td>\n",
       "      <td>112.0</td>\n",
       "      <td>1</td>\n",
       "      <td>130</td>\n",
       "      <td>80</td>\n",
       "    </tr>\n",
       "    <tr>\n",
       "      <th>...</th>\n",
       "      <td>...</td>\n",
       "      <td>...</td>\n",
       "      <td>...</td>\n",
       "      <td>...</td>\n",
       "      <td>...</td>\n",
       "      <td>...</td>\n",
       "      <td>...</td>\n",
       "      <td>...</td>\n",
       "      <td>...</td>\n",
       "      <td>...</td>\n",
       "      <td>...</td>\n",
       "      <td>...</td>\n",
       "    </tr>\n",
       "    <tr>\n",
       "      <th>445</th>\n",
       "      <td>0</td>\n",
       "      <td>0</td>\n",
       "      <td>0</td>\n",
       "      <td>0</td>\n",
       "      <td>1</td>\n",
       "      <td>0</td>\n",
       "      <td>57</td>\n",
       "      <td>158</td>\n",
       "      <td>55.0</td>\n",
       "      <td>1</td>\n",
       "      <td>120</td>\n",
       "      <td>80</td>\n",
       "    </tr>\n",
       "    <tr>\n",
       "      <th>449</th>\n",
       "      <td>2</td>\n",
       "      <td>0</td>\n",
       "      <td>0</td>\n",
       "      <td>0</td>\n",
       "      <td>0</td>\n",
       "      <td>0</td>\n",
       "      <td>50</td>\n",
       "      <td>163</td>\n",
       "      <td>71.0</td>\n",
       "      <td>1</td>\n",
       "      <td>120</td>\n",
       "      <td>80</td>\n",
       "    </tr>\n",
       "    <tr>\n",
       "      <th>452</th>\n",
       "      <td>0</td>\n",
       "      <td>0</td>\n",
       "      <td>0</td>\n",
       "      <td>0</td>\n",
       "      <td>1</td>\n",
       "      <td>0</td>\n",
       "      <td>49</td>\n",
       "      <td>152</td>\n",
       "      <td>80.0</td>\n",
       "      <td>1</td>\n",
       "      <td>110</td>\n",
       "      <td>80</td>\n",
       "    </tr>\n",
       "    <tr>\n",
       "      <th>453</th>\n",
       "      <td>0</td>\n",
       "      <td>0</td>\n",
       "      <td>0</td>\n",
       "      <td>0</td>\n",
       "      <td>1</td>\n",
       "      <td>0</td>\n",
       "      <td>64</td>\n",
       "      <td>169</td>\n",
       "      <td>62.0</td>\n",
       "      <td>1</td>\n",
       "      <td>120</td>\n",
       "      <td>80</td>\n",
       "    </tr>\n",
       "    <tr>\n",
       "      <th>455</th>\n",
       "      <td>0</td>\n",
       "      <td>0</td>\n",
       "      <td>0</td>\n",
       "      <td>0</td>\n",
       "      <td>0</td>\n",
       "      <td>1</td>\n",
       "      <td>58</td>\n",
       "      <td>170</td>\n",
       "      <td>75.0</td>\n",
       "      <td>0</td>\n",
       "      <td>130</td>\n",
       "      <td>80</td>\n",
       "    </tr>\n",
       "  </tbody>\n",
       "</table>\n",
       "<p>100 rows × 12 columns</p>\n",
       "</div>"
      ],
      "text/plain": [
       "     cholesterol  gluc  smoke  alco  active  diabetes  age  height  weight  \\\n",
       "0              0     0      0     0       1         0   54     169    76.0   \n",
       "1              0     0      0     0       1         0   49     165    65.0   \n",
       "14             1     0      0     0       1         0   53     164    68.0   \n",
       "15             0     0      0     0       0         0   41     169    86.0   \n",
       "20             0     0      0     0       1         0   64     163   112.0   \n",
       "..           ...   ...    ...   ...     ...       ...  ...     ...     ...   \n",
       "445            0     0      0     0       1         0   57     158    55.0   \n",
       "449            2     0      0     0       0         0   50     163    71.0   \n",
       "452            0     0      0     0       1         0   49     152    80.0   \n",
       "453            0     0      0     0       1         0   64     169    62.0   \n",
       "455            0     0      0     0       0         1   58     170    75.0   \n",
       "\n",
       "     gender  Upper_pressure  Lower_pressure  \n",
       "0         0             100              80  \n",
       "1         1             120              82  \n",
       "14        1             110              80  \n",
       "15        0             120              80  \n",
       "20        1             130              80  \n",
       "..      ...             ...             ...  \n",
       "445       1             120              80  \n",
       "449       1             120              80  \n",
       "452       1             110              80  \n",
       "453       1             120              80  \n",
       "455       0             130              80  \n",
       "\n",
       "[100 rows x 12 columns]"
      ]
     },
     "execution_count": 278,
     "metadata": {},
     "output_type": "execute_result"
    }
   ],
   "source": [
    "df.head(100)"
   ]
  },
  {
   "cell_type": "code",
   "execution_count": 279,
   "id": "25cf4d00",
   "metadata": {},
   "outputs": [
    {
     "data": {
      "text/plain": [
       "array([0, 1, 2], dtype=int64)"
      ]
     },
     "execution_count": 279,
     "metadata": {},
     "output_type": "execute_result"
    }
   ],
   "source": [
    "df['cholesterol'].unique()"
   ]
  },
  {
   "cell_type": "code",
   "execution_count": 280,
   "id": "56896c2a",
   "metadata": {},
   "outputs": [
    {
     "data": {
      "text/plain": [
       "array([0, 2, 1], dtype=int64)"
      ]
     },
     "execution_count": 280,
     "metadata": {},
     "output_type": "execute_result"
    }
   ],
   "source": [
    "df['gluc'].unique()"
   ]
  },
  {
   "cell_type": "code",
   "execution_count": 281,
   "id": "e12ca267",
   "metadata": {},
   "outputs": [
    {
     "data": {
      "text/plain": [
       "cholesterol         int64\n",
       "gluc                int64\n",
       "smoke               int64\n",
       "alco                int64\n",
       "active              int64\n",
       "diabetes            int64\n",
       "age                 int64\n",
       "height              int64\n",
       "weight            float64\n",
       "gender              int64\n",
       "Upper_pressure      int32\n",
       "Lower_pressure      int32\n",
       "dtype: object"
      ]
     },
     "execution_count": 281,
     "metadata": {},
     "output_type": "execute_result"
    }
   ],
   "source": [
    "df.dtypes"
   ]
  },
  {
   "cell_type": "code",
   "execution_count": 282,
   "id": "84526634",
   "metadata": {},
   "outputs": [
    {
     "data": {
      "text/plain": [
       "0    82.421359\n",
       "1    17.578641\n",
       "Name: diabetes, dtype: float64"
      ]
     },
     "execution_count": 282,
     "metadata": {},
     "output_type": "execute_result"
    }
   ],
   "source": [
    "# Percentage per category for the target column.\n",
    "percentage_labels = df['diabetes'].value_counts(normalize = True) * 100\n",
    "percentage_labels"
   ]
  },
  {
   "cell_type": "code",
   "execution_count": 283,
   "id": "cadcb367",
   "metadata": {},
   "outputs": [],
   "source": [
    "# we have observed Imbalanced data wrt to 75-25 percent Target Class.\n",
    "# We can solve this by SMOTE.\n",
    "# If you have a very small dataset, then the classifier may have an undue bias against the minority class. \n",
    "# As for this demo project I will kept it like this."
   ]
  },
  {
   "cell_type": "code",
   "execution_count": 284,
   "id": "2ed4d6d5",
   "metadata": {},
   "outputs": [
    {
     "data": {
      "text/plain": [
       "<Figure size 1800x1800 with 0 Axes>"
      ]
     },
     "metadata": {},
     "output_type": "display_data"
    },
    {
     "data": {
      "image/png": "[encoded data removed]",
      "text/plain": [
       "<Figure size 403.5x360 with 1 Axes>"
      ]
     },
     "metadata": {
      "needs_background": "light"
     },
     "output_type": "display_data"
    }
   ],
   "source": [
    "# Gender w.r.t diabetes Members\n",
    "plt.figure(figsize = (25,25))\n",
    "sns.catplot(x = 'diabetes', \n",
    "            kind = 'count', \n",
    "            hue = 'gender', \n",
    "            palette = 'pink', \n",
    "            data = df)\n",
    "plt.title(\"Gender w.r.t diabetes Members\")\n",
    "plt.show()"
   ]
  },
  {
   "cell_type": "code",
   "execution_count": 285,
   "id": "0d12704c",
   "metadata": {},
   "outputs": [
    {
     "data": {
      "text/plain": [
       "<Figure size 3240x4680 with 0 Axes>"
      ]
     },
     "metadata": {},
     "output_type": "display_data"
    },
    {
     "data": {
      "image/png": "[encoded data removed]",
      "text/plain": [
       "<Figure size 360x360 with 1 Axes>"
      ]
     },
     "metadata": {
      "needs_background": "light"
     },
     "output_type": "display_data"
    }
   ],
   "source": [
    "plt.figure(figsize = (45,65))\n",
    "sns.catplot(x = 'weight', kind = 'count', data = df, palette = 'pink')\n",
    "plt.title('Customers distribution across Countries')\n",
    "plt.show()"
   ]
  },
  {
   "cell_type": "code",
   "execution_count": 286,
   "id": "27796fcb",
   "metadata": {},
   "outputs": [
    {
     "data": {
      "text/plain": [
       "<Figure size 3240x4680 with 0 Axes>"
      ]
     },
     "metadata": {},
     "output_type": "display_data"
    },
    {
     "data": {
      "image/png": "[encoded data removed]",
      "text/plain": [
       "<Figure size 360x360 with 1 Axes>"
      ]
     },
     "metadata": {
      "needs_background": "light"
     },
     "output_type": "display_data"
    }
   ],
   "source": [
    "plt.figure(figsize = (45,65))\n",
    "sns.catplot(x = 'height', kind = 'count', data = df, palette = 'pink')\n",
    "plt.title('Customers distribution across Countries')\n",
    "plt.show()"
   ]
  },
  {
   "cell_type": "code",
   "execution_count": 287,
   "id": "9c1bbb6a",
   "metadata": {},
   "outputs": [
    {
     "data": {
      "text/plain": [
       "<Figure size 1080x1080 with 0 Axes>"
      ]
     },
     "metadata": {},
     "output_type": "display_data"
    },
    {
     "data": {
      "image/png": "[encoded data removed]",
      "text/plain": [
       "<Figure size 360x360 with 1 Axes>"
      ]
     },
     "metadata": {
      "needs_background": "light"
     },
     "output_type": "display_data"
    }
   ],
   "source": [
    "plt.figure(figsize = (15,15))\n",
    "sns.catplot(x = 'age', kind = 'count', data = df, palette = 'pink')\n",
    "plt.title('Customers distribution across Countries')\n",
    "plt.show()"
   ]
  },
  {
   "cell_type": "markdown",
   "id": "9fcc35f0",
   "metadata": {},
   "source": [
    "# Feature Selection"
   ]
  },
  {
   "cell_type": "markdown",
   "id": "b1e15078",
   "metadata": {},
   "source": [
    "# Metod - 1"
   ]
  },
  {
   "cell_type": "code",
   "execution_count": 288,
   "id": "29591d21",
   "metadata": {},
   "outputs": [
    {
     "data": {
      "text/plain": [
       "<AxesSubplot:>"
      ]
     },
     "execution_count": 288,
     "metadata": {},
     "output_type": "execute_result"
    },
    {
     "data": {
      "image/png": "[encoded data removed]",
      "text/plain": [
       "<Figure size 1080x1080 with 2 Axes>"
      ]
     },
     "metadata": {
      "needs_background": "light"
     },
     "output_type": "display_data"
    }
   ],
   "source": [
    "plt.figure(figsize = (15, 15))\n",
    "sns.heatmap(df.drop(['diabetes'], axis = 1).corr(), annot = True)"
   ]
  },
  {
   "cell_type": "code",
   "execution_count": 289,
   "id": "0b4e7dbc",
   "metadata": {},
   "outputs": [],
   "source": [
    "# we can see cholesterol and gluc is corelated wrt to 45%. \n",
    "# Generally above 70 or 80 percent corellated features we remove one of the features among them.\n",
    "# so we will not drop any feature among them as percentage is not that high in it. we will keep both (cholesterol and gluc)."
   ]
  },
  {
   "cell_type": "markdown",
   "id": "2e5aaa8b",
   "metadata": {},
   "source": [
    "# Method - 2"
   ]
  },
  {
   "cell_type": "code",
   "execution_count": 290,
   "id": "386d6ecc",
   "metadata": {},
   "outputs": [
    {
     "name": "stdout",
     "output_type": "stream",
     "text": [
      "[0.13655778 0.25755115 0.00376917 0.00242452 0.09108545 0.12142561\n",
      " 0.0348188  0.13505051 0.06910685 0.04747978 0.10073038]\n"
     ]
    },
    {
     "data": {
      "image/png": "[encoded data removed]",
      "text/plain": [
       "<Figure size 432x288 with 1 Axes>"
      ]
     },
     "metadata": {
      "needs_background": "light"
     },
     "output_type": "display_data"
    }
   ],
   "source": [
    "from sklearn.ensemble import ExtraTreesClassifier\n",
    "model = ExtraTreesClassifier()\n",
    "model.fit(X,y)\n",
    "\n",
    "print(model.feature_importances_)\n",
    "\n",
    "ranked_features = pd.Series(model.feature_importances_, index=X.columns)\n",
    "ranked_features.nlargest(11).plot(kind='barh')\n",
    "plt.show()"
   ]
  },
  {
   "cell_type": "code",
   "execution_count": 291,
   "id": "096d5dce",
   "metadata": {},
   "outputs": [],
   "source": [
    "# we have found gluc is very important feature.\n",
    "# Smoke and alco is least important. we can remove smoke.\n",
    "# I will take it."
   ]
  },
  {
   "cell_type": "markdown",
   "id": "309acf35",
   "metadata": {},
   "source": [
    "# Method - 3"
   ]
  },
  {
   "cell_type": "code",
   "execution_count": 292,
   "id": "0eff1831",
   "metadata": {},
   "outputs": [
    {
     "data": {
      "text/html": [
       "<div>\n",
       "<style scoped>\n",
       "    .dataframe tbody tr th:only-of-type {\n",
       "        vertical-align: middle;\n",
       "    }\n",
       "\n",
       "    .dataframe tbody tr th {\n",
       "        vertical-align: top;\n",
       "    }\n",
       "\n",
       "    .dataframe thead th {\n",
       "        text-align: right;\n",
       "    }\n",
       "</style>\n",
       "<table border=\"1\" class=\"dataframe\">\n",
       "  <thead>\n",
       "    <tr style=\"text-align: right;\">\n",
       "      <th></th>\n",
       "      <th>Features</th>\n",
       "      <th>Score</th>\n",
       "    </tr>\n",
       "  </thead>\n",
       "  <tbody>\n",
       "    <tr>\n",
       "      <th>5</th>\n",
       "      <td>age</td>\n",
       "      <td>889666.299129</td>\n",
       "    </tr>\n",
       "    <tr>\n",
       "      <th>10</th>\n",
       "      <td>Lower_pressure</td>\n",
       "      <td>519709.105308</td>\n",
       "    </tr>\n",
       "    <tr>\n",
       "      <th>1</th>\n",
       "      <td>gluc</td>\n",
       "      <td>26527.288531</td>\n",
       "    </tr>\n",
       "    <tr>\n",
       "      <th>7</th>\n",
       "      <td>weight</td>\n",
       "      <td>22760.869050</td>\n",
       "    </tr>\n",
       "    <tr>\n",
       "      <th>0</th>\n",
       "      <td>cholesterol</td>\n",
       "      <td>14906.430184</td>\n",
       "    </tr>\n",
       "    <tr>\n",
       "      <th>9</th>\n",
       "      <td>Upper_pressure</td>\n",
       "      <td>12759.528742</td>\n",
       "    </tr>\n",
       "    <tr>\n",
       "      <th>8</th>\n",
       "      <td>gender</td>\n",
       "      <td>1025.547521</td>\n",
       "    </tr>\n",
       "    <tr>\n",
       "      <th>4</th>\n",
       "      <td>active</td>\n",
       "      <td>836.363633</td>\n",
       "    </tr>\n",
       "    <tr>\n",
       "      <th>6</th>\n",
       "      <td>height</td>\n",
       "      <td>429.357276</td>\n",
       "    </tr>\n",
       "    <tr>\n",
       "      <th>2</th>\n",
       "      <td>smoke</td>\n",
       "      <td>257.005042</td>\n",
       "    </tr>\n",
       "    <tr>\n",
       "      <th>3</th>\n",
       "      <td>alco</td>\n",
       "      <td>155.875922</td>\n",
       "    </tr>\n",
       "  </tbody>\n",
       "</table>\n",
       "</div>"
      ],
      "text/plain": [
       "          Features          Score\n",
       "5              age  889666.299129\n",
       "10  Lower_pressure  519709.105308\n",
       "1             gluc   26527.288531\n",
       "7           weight   22760.869050\n",
       "0      cholesterol   14906.430184\n",
       "9   Upper_pressure   12759.528742\n",
       "8           gender    1025.547521\n",
       "4           active     836.363633\n",
       "6           height     429.357276\n",
       "2            smoke     257.005042\n",
       "3             alco     155.875922"
      ]
     },
     "execution_count": 292,
     "metadata": {},
     "output_type": "execute_result"
    }
   ],
   "source": [
    "from sklearn.feature_selection import SelectKBest\n",
    "from sklearn.feature_selection import chi2\n",
    "\n",
    "ordered_rank_features = SelectKBest(score_func=chi2,k=5)\n",
    "ordered_feature=ordered_rank_features.fit(X,y)\n",
    "\n",
    "dfscores=pd.DataFrame(ordered_feature.scores_,columns=[\"Score\"])\n",
    "dfcolumns=pd.DataFrame(X.columns)\n",
    "\n",
    "feature_rank = pd.concat([dfcolumns,dfscores], axis=1)\n",
    "feature_rank.columns=['Features','Score']\n",
    "feature_rank\n",
    "\n",
    "feature_rank.nlargest(11, 'Score')"
   ]
  },
  {
   "cell_type": "code",
   "execution_count": 293,
   "id": "4330aa56",
   "metadata": {},
   "outputs": [],
   "source": [
    "# In this also smoke and alco is less important feature. So we can surely remove it.\n",
    "# But I will not remove it."
   ]
  },
  {
   "cell_type": "markdown",
   "id": "b68fa255",
   "metadata": {},
   "source": [
    "# Method - 4"
   ]
  },
  {
   "cell_type": "code",
   "execution_count": 294,
   "id": "62522ff4",
   "metadata": {},
   "outputs": [
    {
     "data": {
      "text/plain": [
       "gluc              0.142764\n",
       "cholesterol       0.090208\n",
       "weight            0.067636\n",
       "Lower_pressure    0.066328\n",
       "Upper_pressure    0.053493\n",
       "active            0.041270\n",
       "age               0.038273\n",
       "gender            0.029818\n",
       "height            0.017010\n",
       "alco              0.003859\n",
       "smoke             0.003073\n",
       "dtype: float64"
      ]
     },
     "execution_count": 294,
     "metadata": {},
     "output_type": "execute_result"
    }
   ],
   "source": [
    "from sklearn.feature_selection import mutual_info_classif\n",
    "mutual_info = mutual_info_classif(X,y)\n",
    "\n",
    "mutual_data = pd.Series(mutual_info,index=X.columns)\n",
    "mutual_data.sort_values(ascending=False)"
   ]
  },
  {
   "cell_type": "code",
   "execution_count": null,
   "id": "ec29ce93",
   "metadata": {},
   "outputs": [],
   "source": [
    "# smoke and alco is least imformative feature."
   ]
  },
  {
   "cell_type": "markdown",
   "id": "0648cc84",
   "metadata": {},
   "source": [
    "# Action we can Take - Drop smoke and Alco feature. \n",
    "# But I will keep both as it's a demo dataset."
   ]
  },
  {
   "cell_type": "markdown",
   "id": "72f9d2a8",
   "metadata": {},
   "source": [
    "# Splitting Train and Test data"
   ]
  },
  {
   "cell_type": "code",
   "execution_count": 295,
   "id": "7ca5df5f",
   "metadata": {},
   "outputs": [],
   "source": [
    "# Features splitting \n",
    "X = df.drop('diabetes', axis = 1) # selecting all columns except the target\n",
    "y = df['diabetes'] # Target variable"
   ]
  },
  {
   "cell_type": "code",
   "execution_count": 296,
   "id": "ca2d7745",
   "metadata": {},
   "outputs": [
    {
     "data": {
      "text/html": [
       "<div>\n",
       "<style scoped>\n",
       "    .dataframe tbody tr th:only-of-type {\n",
       "        vertical-align: middle;\n",
       "    }\n",
       "\n",
       "    .dataframe tbody tr th {\n",
       "        vertical-align: top;\n",
       "    }\n",
       "\n",
       "    .dataframe thead th {\n",
       "        text-align: right;\n",
       "    }\n",
       "</style>\n",
       "<table border=\"1\" class=\"dataframe\">\n",
       "  <thead>\n",
       "    <tr style=\"text-align: right;\">\n",
       "      <th></th>\n",
       "      <th>cholesterol</th>\n",
       "      <th>gluc</th>\n",
       "      <th>smoke</th>\n",
       "      <th>alco</th>\n",
       "      <th>active</th>\n",
       "      <th>age</th>\n",
       "      <th>height</th>\n",
       "      <th>weight</th>\n",
       "      <th>gender</th>\n",
       "      <th>Upper_pressure</th>\n",
       "      <th>Lower_pressure</th>\n",
       "    </tr>\n",
       "  </thead>\n",
       "  <tbody>\n",
       "    <tr>\n",
       "      <th>0</th>\n",
       "      <td>0</td>\n",
       "      <td>0</td>\n",
       "      <td>0</td>\n",
       "      <td>0</td>\n",
       "      <td>1</td>\n",
       "      <td>54</td>\n",
       "      <td>169</td>\n",
       "      <td>76.0</td>\n",
       "      <td>0</td>\n",
       "      <td>100</td>\n",
       "      <td>80</td>\n",
       "    </tr>\n",
       "    <tr>\n",
       "      <th>1</th>\n",
       "      <td>0</td>\n",
       "      <td>0</td>\n",
       "      <td>0</td>\n",
       "      <td>0</td>\n",
       "      <td>1</td>\n",
       "      <td>49</td>\n",
       "      <td>165</td>\n",
       "      <td>65.0</td>\n",
       "      <td>1</td>\n",
       "      <td>120</td>\n",
       "      <td>82</td>\n",
       "    </tr>\n",
       "    <tr>\n",
       "      <th>14</th>\n",
       "      <td>1</td>\n",
       "      <td>0</td>\n",
       "      <td>0</td>\n",
       "      <td>0</td>\n",
       "      <td>1</td>\n",
       "      <td>53</td>\n",
       "      <td>164</td>\n",
       "      <td>68.0</td>\n",
       "      <td>1</td>\n",
       "      <td>110</td>\n",
       "      <td>80</td>\n",
       "    </tr>\n",
       "    <tr>\n",
       "      <th>15</th>\n",
       "      <td>0</td>\n",
       "      <td>0</td>\n",
       "      <td>0</td>\n",
       "      <td>0</td>\n",
       "      <td>0</td>\n",
       "      <td>41</td>\n",
       "      <td>169</td>\n",
       "      <td>86.0</td>\n",
       "      <td>0</td>\n",
       "      <td>120</td>\n",
       "      <td>80</td>\n",
       "    </tr>\n",
       "    <tr>\n",
       "      <th>20</th>\n",
       "      <td>0</td>\n",
       "      <td>0</td>\n",
       "      <td>0</td>\n",
       "      <td>0</td>\n",
       "      <td>1</td>\n",
       "      <td>64</td>\n",
       "      <td>163</td>\n",
       "      <td>112.0</td>\n",
       "      <td>1</td>\n",
       "      <td>130</td>\n",
       "      <td>80</td>\n",
       "    </tr>\n",
       "  </tbody>\n",
       "</table>\n",
       "</div>"
      ],
      "text/plain": [
       "    cholesterol  gluc  smoke  alco  active  age  height  weight  gender  \\\n",
       "0             0     0      0     0       1   54     169    76.0       0   \n",
       "1             0     0      0     0       1   49     165    65.0       1   \n",
       "14            1     0      0     0       1   53     164    68.0       1   \n",
       "15            0     0      0     0       0   41     169    86.0       0   \n",
       "20            0     0      0     0       1   64     163   112.0       1   \n",
       "\n",
       "    Upper_pressure  Lower_pressure  \n",
       "0              100              80  \n",
       "1              120              82  \n",
       "14             110              80  \n",
       "15             120              80  \n",
       "20             130              80  "
      ]
     },
     "execution_count": 296,
     "metadata": {},
     "output_type": "execute_result"
    }
   ],
   "source": [
    "X.head()"
   ]
  },
  {
   "cell_type": "code",
   "execution_count": 297,
   "id": "dc8728dc",
   "metadata": {},
   "outputs": [
    {
     "data": {
      "text/plain": [
       "0     0\n",
       "1     0\n",
       "14    0\n",
       "15    0\n",
       "20    0\n",
       "Name: diabetes, dtype: int64"
      ]
     },
     "execution_count": 297,
     "metadata": {},
     "output_type": "execute_result"
    }
   ],
   "source": [
    "y.head()"
   ]
  },
  {
   "cell_type": "code",
   "execution_count": 298,
   "id": "f2dbf135",
   "metadata": {},
   "outputs": [
    {
     "data": {
      "text/html": [
       "<div>\n",
       "<style scoped>\n",
       "    .dataframe tbody tr th:only-of-type {\n",
       "        vertical-align: middle;\n",
       "    }\n",
       "\n",
       "    .dataframe tbody tr th {\n",
       "        vertical-align: top;\n",
       "    }\n",
       "\n",
       "    .dataframe thead th {\n",
       "        text-align: right;\n",
       "    }\n",
       "</style>\n",
       "<table border=\"1\" class=\"dataframe\">\n",
       "  <thead>\n",
       "    <tr style=\"text-align: right;\">\n",
       "      <th></th>\n",
       "      <th>count</th>\n",
       "      <th>mean</th>\n",
       "      <th>std</th>\n",
       "      <th>min</th>\n",
       "      <th>25%</th>\n",
       "      <th>50%</th>\n",
       "      <th>75%</th>\n",
       "      <th>max</th>\n",
       "    </tr>\n",
       "  </thead>\n",
       "  <tbody>\n",
       "    <tr>\n",
       "      <th>cholesterol</th>\n",
       "      <td>11349.0</td>\n",
       "      <td>0.294563</td>\n",
       "      <td>0.621569</td>\n",
       "      <td>0.0</td>\n",
       "      <td>0.0</td>\n",
       "      <td>0.0</td>\n",
       "      <td>0.0</td>\n",
       "      <td>2.0</td>\n",
       "    </tr>\n",
       "    <tr>\n",
       "      <th>gluc</th>\n",
       "      <td>11349.0</td>\n",
       "      <td>0.202837</td>\n",
       "      <td>0.547132</td>\n",
       "      <td>0.0</td>\n",
       "      <td>0.0</td>\n",
       "      <td>0.0</td>\n",
       "      <td>0.0</td>\n",
       "      <td>2.0</td>\n",
       "    </tr>\n",
       "    <tr>\n",
       "      <th>smoke</th>\n",
       "      <td>11349.0</td>\n",
       "      <td>0.080007</td>\n",
       "      <td>0.271316</td>\n",
       "      <td>0.0</td>\n",
       "      <td>0.0</td>\n",
       "      <td>0.0</td>\n",
       "      <td>0.0</td>\n",
       "      <td>1.0</td>\n",
       "    </tr>\n",
       "    <tr>\n",
       "      <th>alco</th>\n",
       "      <td>11349.0</td>\n",
       "      <td>0.047581</td>\n",
       "      <td>0.212888</td>\n",
       "      <td>0.0</td>\n",
       "      <td>0.0</td>\n",
       "      <td>0.0</td>\n",
       "      <td>0.0</td>\n",
       "      <td>1.0</td>\n",
       "    </tr>\n",
       "    <tr>\n",
       "      <th>active</th>\n",
       "      <td>11349.0</td>\n",
       "      <td>0.801833</td>\n",
       "      <td>0.398636</td>\n",
       "      <td>0.0</td>\n",
       "      <td>1.0</td>\n",
       "      <td>1.0</td>\n",
       "      <td>1.0</td>\n",
       "      <td>1.0</td>\n",
       "    </tr>\n",
       "    <tr>\n",
       "      <th>diabetes</th>\n",
       "      <td>11349.0</td>\n",
       "      <td>0.175786</td>\n",
       "      <td>0.380655</td>\n",
       "      <td>0.0</td>\n",
       "      <td>0.0</td>\n",
       "      <td>0.0</td>\n",
       "      <td>0.0</td>\n",
       "      <td>1.0</td>\n",
       "    </tr>\n",
       "    <tr>\n",
       "      <th>age</th>\n",
       "      <td>11349.0</td>\n",
       "      <td>52.356331</td>\n",
       "      <td>6.848137</td>\n",
       "      <td>30.0</td>\n",
       "      <td>47.0</td>\n",
       "      <td>53.0</td>\n",
       "      <td>58.0</td>\n",
       "      <td>64.0</td>\n",
       "    </tr>\n",
       "    <tr>\n",
       "      <th>height</th>\n",
       "      <td>11349.0</td>\n",
       "      <td>164.459159</td>\n",
       "      <td>7.837452</td>\n",
       "      <td>67.0</td>\n",
       "      <td>159.0</td>\n",
       "      <td>165.0</td>\n",
       "      <td>170.0</td>\n",
       "      <td>207.0</td>\n",
       "    </tr>\n",
       "    <tr>\n",
       "      <th>weight</th>\n",
       "      <td>11349.0</td>\n",
       "      <td>72.600908</td>\n",
       "      <td>13.477329</td>\n",
       "      <td>30.0</td>\n",
       "      <td>64.0</td>\n",
       "      <td>70.0</td>\n",
       "      <td>80.0</td>\n",
       "      <td>170.0</td>\n",
       "    </tr>\n",
       "    <tr>\n",
       "      <th>gender</th>\n",
       "      <td>11349.0</td>\n",
       "      <td>0.668958</td>\n",
       "      <td>0.470609</td>\n",
       "      <td>0.0</td>\n",
       "      <td>0.0</td>\n",
       "      <td>1.0</td>\n",
       "      <td>1.0</td>\n",
       "      <td>1.0</td>\n",
       "    </tr>\n",
       "    <tr>\n",
       "      <th>Upper_pressure</th>\n",
       "      <td>11349.0</td>\n",
       "      <td>120.728699</td>\n",
       "      <td>10.667243</td>\n",
       "      <td>90.0</td>\n",
       "      <td>120.0</td>\n",
       "      <td>120.0</td>\n",
       "      <td>120.0</td>\n",
       "      <td>180.0</td>\n",
       "    </tr>\n",
       "    <tr>\n",
       "      <th>Lower_pressure</th>\n",
       "      <td>11349.0</td>\n",
       "      <td>77.693629</td>\n",
       "      <td>4.274196</td>\n",
       "      <td>65.0</td>\n",
       "      <td>80.0</td>\n",
       "      <td>80.0</td>\n",
       "      <td>80.0</td>\n",
       "      <td>85.0</td>\n",
       "    </tr>\n",
       "  </tbody>\n",
       "</table>\n",
       "</div>"
      ],
      "text/plain": [
       "                  count        mean        std   min    25%    50%    75%  \\\n",
       "cholesterol     11349.0    0.294563   0.621569   0.0    0.0    0.0    0.0   \n",
       "gluc            11349.0    0.202837   0.547132   0.0    0.0    0.0    0.0   \n",
       "smoke           11349.0    0.080007   0.271316   0.0    0.0    0.0    0.0   \n",
       "alco            11349.0    0.047581   0.212888   0.0    0.0    0.0    0.0   \n",
       "active          11349.0    0.801833   0.398636   0.0    1.0    1.0    1.0   \n",
       "diabetes        11349.0    0.175786   0.380655   0.0    0.0    0.0    0.0   \n",
       "age             11349.0   52.356331   6.848137  30.0   47.0   53.0   58.0   \n",
       "height          11349.0  164.459159   7.837452  67.0  159.0  165.0  170.0   \n",
       "weight          11349.0   72.600908  13.477329  30.0   64.0   70.0   80.0   \n",
       "gender          11349.0    0.668958   0.470609   0.0    0.0    1.0    1.0   \n",
       "Upper_pressure  11349.0  120.728699  10.667243  90.0  120.0  120.0  120.0   \n",
       "Lower_pressure  11349.0   77.693629   4.274196  65.0   80.0   80.0   80.0   \n",
       "\n",
       "                  max  \n",
       "cholesterol       2.0  \n",
       "gluc              2.0  \n",
       "smoke             1.0  \n",
       "alco              1.0  \n",
       "active            1.0  \n",
       "diabetes          1.0  \n",
       "age              64.0  \n",
       "height          207.0  \n",
       "weight          170.0  \n",
       "gender            1.0  \n",
       "Upper_pressure  180.0  \n",
       "Lower_pressure   85.0  "
      ]
     },
     "execution_count": 298,
     "metadata": {},
     "output_type": "execute_result"
    }
   ],
   "source": [
    "df.describe().T"
   ]
  },
  {
   "cell_type": "code",
   "execution_count": 299,
   "id": "45fc5415",
   "metadata": {},
   "outputs": [
    {
     "data": {
      "text/plain": [
       "((7944, 11), (3405, 11), (7944,), (3405,))"
      ]
     },
     "execution_count": 299,
     "metadata": {},
     "output_type": "execute_result"
    }
   ],
   "source": [
    "from sklearn.model_selection import train_test_split\n",
    "X_train, X_test, y_train, y_test = train_test_split(X,\n",
    "                                                    y, \n",
    "                                                    test_size=0.3, \n",
    "                                                    random_state=100)\n",
    "\n",
    "X_train.shape, X_test.shape, y_train.shape, y_test.shape"
   ]
  },
  {
   "cell_type": "code",
   "execution_count": 300,
   "id": "2e339705",
   "metadata": {},
   "outputs": [
    {
     "data": {
      "text/html": [
       "<div>\n",
       "<style scoped>\n",
       "    .dataframe tbody tr th:only-of-type {\n",
       "        vertical-align: middle;\n",
       "    }\n",
       "\n",
       "    .dataframe tbody tr th {\n",
       "        vertical-align: top;\n",
       "    }\n",
       "\n",
       "    .dataframe thead th {\n",
       "        text-align: right;\n",
       "    }\n",
       "</style>\n",
       "<table border=\"1\" class=\"dataframe\">\n",
       "  <thead>\n",
       "    <tr style=\"text-align: right;\">\n",
       "      <th></th>\n",
       "      <th>cholesterol</th>\n",
       "      <th>gluc</th>\n",
       "      <th>smoke</th>\n",
       "      <th>alco</th>\n",
       "      <th>active</th>\n",
       "      <th>age</th>\n",
       "      <th>height</th>\n",
       "      <th>weight</th>\n",
       "      <th>gender</th>\n",
       "      <th>Upper_pressure</th>\n",
       "      <th>Lower_pressure</th>\n",
       "    </tr>\n",
       "  </thead>\n",
       "  <tbody>\n",
       "    <tr>\n",
       "      <th>16282</th>\n",
       "      <td>2</td>\n",
       "      <td>2</td>\n",
       "      <td>0</td>\n",
       "      <td>0</td>\n",
       "      <td>1</td>\n",
       "      <td>57</td>\n",
       "      <td>167</td>\n",
       "      <td>110.0</td>\n",
       "      <td>0</td>\n",
       "      <td>130</td>\n",
       "      <td>80</td>\n",
       "    </tr>\n",
       "    <tr>\n",
       "      <th>25399</th>\n",
       "      <td>1</td>\n",
       "      <td>0</td>\n",
       "      <td>0</td>\n",
       "      <td>0</td>\n",
       "      <td>1</td>\n",
       "      <td>48</td>\n",
       "      <td>166</td>\n",
       "      <td>89.0</td>\n",
       "      <td>1</td>\n",
       "      <td>100</td>\n",
       "      <td>70</td>\n",
       "    </tr>\n",
       "    <tr>\n",
       "      <th>52514</th>\n",
       "      <td>0</td>\n",
       "      <td>2</td>\n",
       "      <td>1</td>\n",
       "      <td>1</td>\n",
       "      <td>1</td>\n",
       "      <td>48</td>\n",
       "      <td>168</td>\n",
       "      <td>67.0</td>\n",
       "      <td>0</td>\n",
       "      <td>120</td>\n",
       "      <td>80</td>\n",
       "    </tr>\n",
       "    <tr>\n",
       "      <th>52670</th>\n",
       "      <td>0</td>\n",
       "      <td>0</td>\n",
       "      <td>0</td>\n",
       "      <td>0</td>\n",
       "      <td>1</td>\n",
       "      <td>42</td>\n",
       "      <td>152</td>\n",
       "      <td>50.0</td>\n",
       "      <td>1</td>\n",
       "      <td>100</td>\n",
       "      <td>70</td>\n",
       "    </tr>\n",
       "    <tr>\n",
       "      <th>51018</th>\n",
       "      <td>0</td>\n",
       "      <td>0</td>\n",
       "      <td>0</td>\n",
       "      <td>0</td>\n",
       "      <td>0</td>\n",
       "      <td>43</td>\n",
       "      <td>159</td>\n",
       "      <td>110.0</td>\n",
       "      <td>1</td>\n",
       "      <td>130</td>\n",
       "      <td>80</td>\n",
       "    </tr>\n",
       "  </tbody>\n",
       "</table>\n",
       "</div>"
      ],
      "text/plain": [
       "       cholesterol  gluc  smoke  alco  active  age  height  weight  gender  \\\n",
       "16282            2     2      0     0       1   57     167   110.0       0   \n",
       "25399            1     0      0     0       1   48     166    89.0       1   \n",
       "52514            0     2      1     1       1   48     168    67.0       0   \n",
       "52670            0     0      0     0       1   42     152    50.0       1   \n",
       "51018            0     0      0     0       0   43     159   110.0       1   \n",
       "\n",
       "       Upper_pressure  Lower_pressure  \n",
       "16282             130              80  \n",
       "25399             100              70  \n",
       "52514             120              80  \n",
       "52670             100              70  \n",
       "51018             130              80  "
      ]
     },
     "execution_count": 300,
     "metadata": {},
     "output_type": "execute_result"
    }
   ],
   "source": [
    "X_train.head()"
   ]
  },
  {
   "cell_type": "code",
   "execution_count": 301,
   "id": "b74a40a5",
   "metadata": {},
   "outputs": [
    {
     "data": {
      "text/plain": [
       "16282    1\n",
       "25399    0\n",
       "52514    1\n",
       "52670    0\n",
       "51018    0\n",
       "Name: diabetes, dtype: int64"
      ]
     },
     "execution_count": 301,
     "metadata": {},
     "output_type": "execute_result"
    }
   ],
   "source": [
    "y_train.head()"
   ]
  },
  {
   "cell_type": "markdown",
   "id": "2e2bd6c8",
   "metadata": {},
   "source": [
    "# Feature Scaling"
   ]
  },
  {
   "cell_type": "code",
   "execution_count": 302,
   "id": "75435fee",
   "metadata": {},
   "outputs": [],
   "source": [
    "from sklearn.preprocessing import MinMaxScaler\n",
    "\n",
    "# Initialization of the class\n",
    "scaler = MinMaxScaler()\n",
    "\n",
    "# Applying the scaler on test and train data\n",
    "X_train = scaler.fit_transform(X_train)\n",
    "X_test = scaler.transform(X_test)"
   ]
  },
  {
   "cell_type": "markdown",
   "id": "dc0ead41",
   "metadata": {},
   "source": [
    "# Model Selection - (Selecting the Best Model)"
   ]
  },
  {
   "cell_type": "code",
   "execution_count": 303,
   "id": "99c4614a",
   "metadata": {},
   "outputs": [
    {
     "name": "stdout",
     "output_type": "stream",
     "text": [
      "  Name     Score\n",
      "0  KNN  0.975918\n",
      "1  SVC  0.987372\n",
      "2   LR  0.988840\n",
      "3   DT  0.978267\n",
      "4  GNB  0.893686\n",
      "5   RF  0.983554\n",
      "6   GB  0.981791\n"
     ]
    }
   ],
   "source": [
    "models = []\n",
    "\n",
    "models.append(('KNN', KNeighborsClassifier()))\n",
    "models.append(('SVC', SVC()))\n",
    "models.append(('LR', LogisticRegression()))\n",
    "models.append(('DT', DecisionTreeClassifier()))\n",
    "models.append(('GNB', GaussianNB()))\n",
    "models.append(('RF', RandomForestClassifier()))\n",
    "models.append(('GB', GradientBoostingClassifier()))\n",
    "\n",
    "\n",
    "names = []\n",
    "scores = []\n",
    "\n",
    "for name, model in models:\n",
    "    model.fit(X_train, y_train)\n",
    "    y_pred = model.predict(X_test)\n",
    "    scores.append(accuracy_score(y_test, y_pred))\n",
    "    names.append(name)\n",
    "    \n",
    "tr_split = pd.DataFrame({'Name': names, 'Score': scores})\n",
    "print(tr_split)"
   ]
  },
  {
   "cell_type": "markdown",
   "id": "aafc58b1",
   "metadata": {},
   "source": [
    "# Logistic Regression"
   ]
  },
  {
   "cell_type": "code",
   "execution_count": 317,
   "id": "383ee57e",
   "metadata": {},
   "outputs": [],
   "source": [
    "model_Log = LogisticRegression(solver='liblinear', random_state=0).fit(X_train, y_train)"
   ]
  },
  {
   "cell_type": "code",
   "execution_count": 318,
   "id": "2238cd28",
   "metadata": {},
   "outputs": [
    {
     "name": "stdout",
     "output_type": "stream",
     "text": [
      "accuracy_score for Logisti Regression :  0.9847283406754772\n",
      "\n",
      "[[2770   14]\n",
      " [  38  583]]\n",
      "\n",
      "              precision    recall  f1-score   support\n",
      "\n",
      "           0       0.99      0.99      0.99      2784\n",
      "           1       0.98      0.94      0.96       621\n",
      "\n",
      "    accuracy                           0.98      3405\n",
      "   macro avg       0.98      0.97      0.97      3405\n",
      "weighted avg       0.98      0.98      0.98      3405\n",
      "\n"
     ]
    }
   ],
   "source": [
    "y_pred_Log = model_Log.predict(X_test)\n",
    "\n",
    "#Evaluating the Random Forest Model\n",
    "print(\"accuracy_score for Logisti Regression : \",accuracy_score(y_test,y_pred_Log))\n",
    "print()\n",
    "print(confusion_matrix(y_test,y_pred_Log))\n",
    "print()\n",
    "print(classification_report(y_test,y_pred_Log))"
   ]
  },
  {
   "cell_type": "markdown",
   "id": "168c177f",
   "metadata": {},
   "source": [
    "# Hyper Parameter tuning on Random Forest Algo"
   ]
  },
  {
   "cell_type": "code",
   "execution_count": 304,
   "id": "8990ad11",
   "metadata": {},
   "outputs": [
    {
     "name": "stdout",
     "output_type": "stream",
     "text": [
      "{'bootstrap': [True, False],\n",
      " 'max_depth': [12, 22, 33, 44, 55, 66, 76, 87, 98, 109, 120, None],\n",
      " 'max_features': ['auto', 'sqrt'],\n",
      " 'min_samples_leaf': [1, 2, 4, 6, 8],\n",
      " 'min_samples_split': [2, 5, 6, 8, 10],\n",
      " 'n_estimators': [210, 408, 607, 806, 1005, 1204, 1403, 1602, 1801, 2000]}\n"
     ]
    }
   ],
   "source": [
    "# Number of trees in random forest\n",
    "n_estimators = [int(x) for x in np.linspace(start = 210, stop = 2000, num = 10)]\n",
    "\n",
    "# Number of features to consider at every split\n",
    "max_features = ['auto', 'sqrt']\n",
    "\n",
    "# Maximum number of levels in tree\n",
    "max_depth = [int(x) for x in np.linspace(12, 120, num = 11)]\n",
    "max_depth.append(None)\n",
    "\n",
    "# Minimum number of samples required to split a node\n",
    "min_samples_split = [2, 5, 6, 8, 10]\n",
    "\n",
    "# Minimum number of samples required at each leaf node\n",
    "min_samples_leaf = [1, 2, 4,6,8]\n",
    "\n",
    "# Method of selecting samples for training each tree\n",
    "bootstrap = [True, False]\n",
    "\n",
    "# Create the random grid\n",
    "random_grid = {'n_estimators': n_estimators,\n",
    "               'max_features': max_features,\n",
    "               'max_depth': max_depth,\n",
    "               'min_samples_split': min_samples_split,\n",
    "               'min_samples_leaf': min_samples_leaf,\n",
    "               'bootstrap': bootstrap}\n",
    "\n",
    "pprint(random_grid)"
   ]
  },
  {
   "cell_type": "code",
   "execution_count": 305,
   "id": "b91bf06d",
   "metadata": {},
   "outputs": [
    {
     "name": "stdout",
     "output_type": "stream",
     "text": [
      "Fitting 3 folds for each of 100 candidates, totalling 300 fits\n"
     ]
    },
    {
     "data": {
      "text/plain": [
       "RandomizedSearchCV(cv=3, estimator=RandomForestClassifier(), n_iter=100,\n",
       "                   n_jobs=-1,\n",
       "                   param_distributions={'bootstrap': [True, False],\n",
       "                                        'max_depth': [12, 22, 33, 44, 55, 66,\n",
       "                                                      76, 87, 98, 109, 120,\n",
       "                                                      None],\n",
       "                                        'max_features': ['auto', 'sqrt'],\n",
       "                                        'min_samples_leaf': [1, 2, 4, 6, 8],\n",
       "                                        'min_samples_split': [2, 5, 6, 8, 10],\n",
       "                                        'n_estimators': [210, 408, 607, 806,\n",
       "                                                         1005, 1204, 1403, 1602,\n",
       "                                                         1801, 2000]},\n",
       "                   random_state=42, verbose=2)"
      ]
     },
     "execution_count": 305,
     "metadata": {},
     "output_type": "execute_result"
    }
   ],
   "source": [
    "# Use the random grid to search for best hyperparameters\n",
    "\n",
    "rf = RandomForestClassifier()\n",
    " \n",
    "rf_random = RandomizedSearchCV(estimator = rf, \n",
    "                               param_distributions = random_grid, \n",
    "                               n_iter = 100, \n",
    "                               cv = 3, \n",
    "                               verbose=2, \n",
    "                               random_state=42, \n",
    "                               n_jobs = -1)\n",
    "\n",
    "# Fit the random search model\n",
    "rf_random.fit(X_train, y_train)"
   ]
  },
  {
   "cell_type": "code",
   "execution_count": 306,
   "id": "868f01e2",
   "metadata": {},
   "outputs": [
    {
     "data": {
      "text/plain": [
       "{'n_estimators': 2000,\n",
       " 'min_samples_split': 5,\n",
       " 'min_samples_leaf': 1,\n",
       " 'max_features': 'sqrt',\n",
       " 'max_depth': 22,\n",
       " 'bootstrap': True}"
      ]
     },
     "execution_count": 306,
     "metadata": {},
     "output_type": "execute_result"
    }
   ],
   "source": [
    "rf_random.best_params_"
   ]
  },
  {
   "cell_type": "markdown",
   "id": "40389635",
   "metadata": {},
   "source": [
    "# We will fit the obtained parameters in the Random Forest Model"
   ]
  },
  {
   "cell_type": "code",
   "execution_count": 307,
   "id": "fdc67d79",
   "metadata": {},
   "outputs": [
    {
     "data": {
      "text/plain": [
       "RandomForestClassifier(bootstrap='True', max_depth=22, max_features='sqrt',\n",
       "                       min_samples_split=5, n_estimators=2000)"
      ]
     },
     "execution_count": 307,
     "metadata": {},
     "output_type": "execute_result"
    }
   ],
   "source": [
    "# Creating Random Forest Model\n",
    "from sklearn.ensemble import RandomForestClassifier\n",
    "classifier = RandomForestClassifier(n_estimators=2000,\n",
    "                                   min_samples_split=5,\n",
    "                                   min_samples_leaf=1,\n",
    "                                   max_features='sqrt',\n",
    "                                   max_depth=22,\n",
    "                                   bootstrap='True')\n",
    "classifier.fit(X_train, y_train)"
   ]
  },
  {
   "cell_type": "code",
   "execution_count": 308,
   "id": "c78507ae",
   "metadata": {},
   "outputs": [
    {
     "name": "stdout",
     "output_type": "stream",
     "text": [
      "accuracy_score for Random Forest :  0.9812041116005874\n",
      "\n",
      "[[2748   36]\n",
      " [  28  593]]\n",
      "\n",
      "              precision    recall  f1-score   support\n",
      "\n",
      "           0       0.99      0.99      0.99      2784\n",
      "           1       0.94      0.95      0.95       621\n",
      "\n",
      "    accuracy                           0.98      3405\n",
      "   macro avg       0.97      0.97      0.97      3405\n",
      "weighted avg       0.98      0.98      0.98      3405\n",
      "\n"
     ]
    }
   ],
   "source": [
    "y_pred_forest = classifier.predict(X_test)\n",
    "\n",
    "#Evaluating the Random Forest Model\n",
    "print(\"accuracy_score for Random Forest : \",accuracy_score(y_test,y_pred_forest))\n",
    "print()\n",
    "print(confusion_matrix(y_test,y_pred_forest))\n",
    "print()\n",
    "print(classification_report(y_test,y_pred_forest))"
   ]
  },
  {
   "cell_type": "markdown",
   "id": "d4486f2b",
   "metadata": {},
   "source": [
    "# Note - Logistic Regression performs better Than Random Forest Algo. As Type 1 and Type 2 error is less in Logistic regression"
   ]
  },
  {
   "cell_type": "code",
   "execution_count": 319,
   "id": "ccaf02f2",
   "metadata": {},
   "outputs": [],
   "source": [
    "# Creating a pickle file for the classifier\n",
    "filename = 'diabetes-prediction-Logistic-model.pkl'\n",
    "pickle.dump(model_Log, open(filename, 'wb'))"
   ]
  },
  {
   "cell_type": "code",
   "execution_count": null,
   "id": "f4851302",
   "metadata": {},
   "outputs": [],
   "source": []
  },
  {
   "cell_type": "code",
   "execution_count": null,
   "id": "bf317ab8",
   "metadata": {},
   "outputs": [],
   "source": []
  },
  {
   "cell_type": "code",
   "execution_count": null,
   "id": "9f89f2d5",
   "metadata": {},
   "outputs": [],
   "source": []
  }
 ],
 "metadata": {
  "kernelspec": {
   "display_name": "Python 3 (ipykernel)",
   "language": "python",
   "name": "python3"
  },
  "language_info": {
   "codemirror_mode": {
    "name": "ipython",
    "version": 3
   },
   "file_extension": ".py",
   "mimetype": "text/x-python",
   "name": "python",
   "nbconvert_exporter": "python",
   "pygments_lexer": "ipython3",
   "version": "3.9.7"
  }
 },
 "nbformat": 4,
 "nbformat_minor": 5
}
